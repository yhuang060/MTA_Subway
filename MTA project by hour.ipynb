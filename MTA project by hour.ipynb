{
 "cells": [
  {
   "cell_type": "markdown",
   "metadata": {},
   "source": [
    "# Import Library"
   ]
  },
  {
   "cell_type": "code",
   "execution_count": 184,
   "metadata": {},
   "outputs": [],
   "source": [
    "import pandas as pd\n",
    "import numpy as np\n",
    "import pandas as pd\n",
    "import glob\n",
    "from datetime import datetime as dt\n",
    "import matplotlib.pyplot as plt\n",
    "import numpy as np\n",
    "import calendar\n",
    "import seaborn as sns\n"
   ]
  },
  {
   "cell_type": "markdown",
   "metadata": {},
   "source": [
    "# Read data"
   ]
  },
  {
   "cell_type": "code",
   "execution_count": 185,
   "metadata": {},
   "outputs": [],
   "source": [
    "# Source: http://web.mta.info/developers/turnstile.html\n",
    "def get_data(week_nums):\n",
    "    url = \"http://web.mta.info/developers/data/nyct/turnstile/turnstile_{}.txt\"\n",
    "    dfs = []\n",
    "    for week_num in week_nums:\n",
    "        file_url = url.format(week_num)\n",
    "        dfs.append(pd.read_csv(file_url))\n",
    "    return pd.concat(dfs)\n",
    "        \n",
    "week_nums = [190406, 190413, 190420, 190427, 190504, 190511, 190518, 190525, 190601,\n",
    "             190608, 190615, 190622, 190629, 190706, 190713, 190720, 190727]\n",
    "df = get_data(week_nums)"
   ]
  },
  {
   "cell_type": "code",
   "execution_count": 186,
   "metadata": {},
   "outputs": [],
   "source": [
    "#in case ruin the dataframe\n",
    "xyz=df.copy()\n",
    "#df=x.copy()\n"
   ]
  },
  {
   "cell_type": "markdown",
   "metadata": {},
   "source": [
    "# Clean data"
   ]
  },
  {
   "cell_type": "code",
   "execution_count": 187,
   "metadata": {},
   "outputs": [],
   "source": [
    "#clean column names\n",
    "df.rename(columns={'C/A': 'c_a', 'UNIT': 'unit', 'SCP': 'scp', 'STATION': 'station', 'LINENAME': 'linename', 'DIVISION': 'division', 'DATE': 'date','TIME': 'time', 'DESC': 'desc', 'ENTRIES': 'entries', df.columns[10]: 'exits'}, inplace=True)\n",
    "\n",
    "#keep only subway divisions\n",
    "df = df[(df['division'] == 'BMT') | (df['division'] == 'IND') | (df['division'] == 'IRT')]\n",
    "\n",
    "#add Hour\n",
    "df['hour']= list(map(lambda x: int(x.split(':')[0]),df['time'][:]))\n",
    "\n",
    "#Add formatted timestamp column\n",
    "df['timestamp'] = pd.to_datetime(df['date'] + \" \" + df['time'],format='%m/%d/%Y %H:%M:%S')\n",
    "\n",
    "#add unique turnstile id\n",
    "df['unique_turnstile_id'] = df['c_a'] + df['unit'] + ' ' + df['station'] + ' ' + df['scp']\n",
    "\n",
    "#add day of week column\n",
    "df['day_of_week'] = df.timestamp.dt.day_name()\n",
    "\n",
    "df = df.reset_index()"
   ]
  },
  {
   "cell_type": "code",
   "execution_count": 69,
   "metadata": {},
   "outputs": [
    {
     "name": "stdout",
     "output_type": "stream",
     "text": [
      "<class 'pandas.core.frame.DataFrame'>\n",
      "RangeIndex: 3441725 entries, 0 to 3441724\n",
      "Data columns (total 16 columns):\n",
      " #   Column               Dtype         \n",
      "---  ------               -----         \n",
      " 0   index                int64         \n",
      " 1   c_a                  object        \n",
      " 2   unit                 object        \n",
      " 3   scp                  object        \n",
      " 4   station              object        \n",
      " 5   linename             object        \n",
      " 6   division             object        \n",
      " 7   date                 object        \n",
      " 8   time                 object        \n",
      " 9   desc                 object        \n",
      " 10  entries              int64         \n",
      " 11  exits                int64         \n",
      " 12  hour                 int64         \n",
      " 13  timestamp            datetime64[ns]\n",
      " 14  unique_turnstile_id  object        \n",
      " 15  day_of_week          object        \n",
      "dtypes: datetime64[ns](1), int64(4), object(11)\n",
      "memory usage: 420.1+ MB\n"
     ]
    }
   ],
   "source": [
    "df.info()"
   ]
  },
  {
   "cell_type": "code",
   "execution_count": 188,
   "metadata": {},
   "outputs": [],
   "source": [
    "# Get rid of duplicate entries caused by \"RECOVER AUD\" in desc column, if any\n",
    "df.sort_values([\"c_a\", \"unit\", \"scp\", \"station\", \"timestamp\"], \n",
    "                          inplace=True, ascending=False)\n",
    "df.drop_duplicates(subset=[\"c_a\", \"unit\", \"scp\", \"station\", \"timestamp\"], inplace=True)"
   ]
  },
  {
   "cell_type": "code",
   "execution_count": 189,
   "metadata": {},
   "outputs": [
    {
     "data": {
      "text/plain": [
       "array(['BDFM'], dtype=object)"
      ]
     },
     "execution_count": 189,
     "metadata": {},
     "output_type": "execute_result"
    }
   ],
   "source": [
    "df_23st = df[df['station'] == '47-50 STS ROCK']\n",
    "df_23st.linename.unique()"
   ]
  },
  {
   "cell_type": "code",
   "execution_count": 190,
   "metadata": {},
   "outputs": [],
   "source": [
    "def rename_station(row):\n",
    "    if row.station == '23 ST' or row.station == '86 ST' or row.station == '125 ST' or row.station == '59 ST' or row.station == '96 ST' or row.station == '14 ST':\n",
    "        row.station = row.station + ' ' + row.linename\n",
    "    return row\n",
    "\n",
    "df = df.apply(rename_station, axis='columns')"
   ]
  },
  {
   "cell_type": "code",
   "execution_count": 191,
   "metadata": {},
   "outputs": [],
   "source": [
    "#keep only needed columns\n",
    "df = df.loc[:,['station', 'entries', 'exits', 'timestamp','time', 'unique_turnstile_id','hour']]"
   ]
  },
  {
   "cell_type": "markdown",
   "metadata": {},
   "source": [
    "# Volume diff"
   ]
  },
  {
   "cell_type": "code",
   "execution_count": 192,
   "metadata": {},
   "outputs": [],
   "source": [
    "#calculate actual volumes for each record (record minus previous record)\n",
    "df['diff_entries'] = abs(df.entries.diff())\n",
    "df['diff_exits'] = abs(df.exits.diff())\n",
    "df['total_traffic'] = df.diff_entries + df.diff_exits\n",
    "\n",
    "#record index in new column (needed to identify first instance of turnstile data)\n",
    "df['record_index'] = df.index\n",
    "#df"
   ]
  },
  {
   "cell_type": "code",
   "execution_count": 193,
   "metadata": {},
   "outputs": [],
   "source": [
    "#identify first rows of unique turnstile data\n",
    "df_first_rows = df.groupby('unique_turnstile_id').first()\n",
    "\n",
    "#index of records of first turnstile rows\n",
    "list_index = df_first_rows.record_index.values\n",
    "\n",
    "#drop first rows from main df\n",
    "df.drop(list_index, inplace=True)"
   ]
  },
  {
   "cell_type": "code",
   "execution_count": 194,
   "metadata": {},
   "outputs": [],
   "source": [
    "#keep only data with traffic > 0 and < 14400 (1 person per second)\n",
    "df = df[(df['total_traffic'] > 0) & (df['total_traffic'] < 14400)]"
   ]
  },
  {
   "cell_type": "code",
   "execution_count": 195,
   "metadata": {},
   "outputs": [],
   "source": [
    "df = df.reset_index()"
   ]
  },
  {
   "cell_type": "code",
   "execution_count": null,
   "metadata": {},
   "outputs": [],
   "source": [
    "#drop record index column. no longer applies after re-indexing\n",
    "#df.drop('record_index', axis=1)"
   ]
  },
  {
   "cell_type": "code",
   "execution_count": 196,
   "metadata": {},
   "outputs": [],
   "source": [
    "df.drop(['record_index', 'entries', 'exits'], axis=1, inplace=True)\n",
    "df[\"weekday\"] = df[\"timestamp\"].dt.day_name()\n",
    "df_by_station = (df.groupby(\"station\").agg({\"total_traffic\": 'sum'}).\n",
    "                 reset_index().sort_values(by=\"total_traffic\", ascending=False))"
   ]
  },
  {
   "cell_type": "code",
   "execution_count": 198,
   "metadata": {},
   "outputs": [
    {
     "data": {
      "text/html": [
       "<div>\n",
       "<style scoped>\n",
       "    .dataframe tbody tr th:only-of-type {\n",
       "        vertical-align: middle;\n",
       "    }\n",
       "\n",
       "    .dataframe tbody tr th {\n",
       "        vertical-align: top;\n",
       "    }\n",
       "\n",
       "    .dataframe thead th {\n",
       "        text-align: right;\n",
       "    }\n",
       "</style>\n",
       "<table border=\"1\" class=\"dataframe\">\n",
       "  <thead>\n",
       "    <tr style=\"text-align: right;\">\n",
       "      <th></th>\n",
       "      <th>station</th>\n",
       "      <th>total_traffic</th>\n",
       "    </tr>\n",
       "  </thead>\n",
       "  <tbody>\n",
       "    <tr>\n",
       "      <th>69</th>\n",
       "      <td>34 ST-PENN STA</td>\n",
       "      <td>33322393.0</td>\n",
       "    </tr>\n",
       "    <tr>\n",
       "      <th>245</th>\n",
       "      <td>GRD CNTRL-42 ST</td>\n",
       "      <td>29065257.0</td>\n",
       "    </tr>\n",
       "    <tr>\n",
       "      <th>67</th>\n",
       "      <td>34 ST-HERALD SQ</td>\n",
       "      <td>25012557.0</td>\n",
       "    </tr>\n",
       "    <tr>\n",
       "      <th>349</th>\n",
       "      <td>TIMES SQ-42 ST</td>\n",
       "      <td>20961309.0</td>\n",
       "    </tr>\n",
       "    <tr>\n",
       "      <th>19</th>\n",
       "      <td>14 ST-UNION SQ</td>\n",
       "      <td>20533165.0</td>\n",
       "    </tr>\n",
       "    <tr>\n",
       "      <th>76</th>\n",
       "      <td>42 ST-PORT AUTH</td>\n",
       "      <td>19969747.0</td>\n",
       "    </tr>\n",
       "    <tr>\n",
       "      <th>238</th>\n",
       "      <td>FULTON ST</td>\n",
       "      <td>18241509.0</td>\n",
       "    </tr>\n",
       "    <tr>\n",
       "      <th>187</th>\n",
       "      <td>CANAL ST</td>\n",
       "      <td>14546518.0</td>\n",
       "    </tr>\n",
       "    <tr>\n",
       "      <th>94</th>\n",
       "      <td>59 ST COLUMBUS</td>\n",
       "      <td>13759907.0</td>\n",
       "    </tr>\n",
       "    <tr>\n",
       "      <th>80</th>\n",
       "      <td>47-50 STS ROCK</td>\n",
       "      <td>12041838.0</td>\n",
       "    </tr>\n",
       "  </tbody>\n",
       "</table>\n",
       "</div>"
      ],
      "text/plain": [
       "             station  total_traffic\n",
       "69    34 ST-PENN STA     33322393.0\n",
       "245  GRD CNTRL-42 ST     29065257.0\n",
       "67   34 ST-HERALD SQ     25012557.0\n",
       "349   TIMES SQ-42 ST     20961309.0\n",
       "19    14 ST-UNION SQ     20533165.0\n",
       "76   42 ST-PORT AUTH     19969747.0\n",
       "238        FULTON ST     18241509.0\n",
       "187         CANAL ST     14546518.0\n",
       "94    59 ST COLUMBUS     13759907.0\n",
       "80    47-50 STS ROCK     12041838.0"
      ]
     },
     "execution_count": 198,
     "metadata": {},
     "output_type": "execute_result"
    }
   ],
   "source": [
    "df_by_station.head(10)"
   ]
  },
  {
   "cell_type": "markdown",
   "metadata": {},
   "source": [
    "# Volume by Hour"
   ]
  },
  {
   "cell_type": "code",
   "execution_count": 199,
   "metadata": {},
   "outputs": [],
   "source": [
    "df.head()\n",
    "df_by_hour=df\n",
    "#df_by_hour.info()\n",
    "\n",
    "#Calculate Hourly traffic\n",
    "df_by_hour['Hourly_traffic']=df_by_hour['total_traffic']/4\n"
   ]
  },
  {
   "cell_type": "code",
   "execution_count": 200,
   "metadata": {},
   "outputs": [],
   "source": [
    "#plit Column containing lists into different rows\n",
    "df_by_hour['Hour']= list(map(lambda x : [x-1, x-2, x-3, x-4],df_by_hour['hour']))\n",
    "df_by_hour_update = pd.DataFrame({\n",
    "      col:np.repeat(df_by_hour[col].values, df_by_hour['Hour'].str.len())\n",
    "      for col in df_by_hour.columns.drop('Hour')}\n",
    "    ).assign(**{'Hour':np.concatenate(df_by_hour['Hour'].values)})[df_by_hour.columns]\n",
    "\n",
    "df_by_hour_update\n",
    "\n",
    "def check_neg_hour(x):\n",
    "    if x<0: \n",
    "        x+=24\n",
    "    else:\n",
    "        pass\n",
    "    return x\n",
    "\n",
    "df_by_hour_update['Hour']=list(map(check_neg_hour, df_by_hour_update['Hour']))\n",
    "\n",
    "#df_by_hour_update"
   ]
  },
  {
   "cell_type": "code",
   "execution_count": 201,
   "metadata": {},
   "outputs": [],
   "source": [
    "# Add Column for Month\n",
    "df_by_hour_update[\"Month\"]=pd.DatetimeIndex(df_by_hour_update[\"timestamp\"]).month\n",
    "\n",
    "df_by_hour_update[\"Month\"]=list(map(lambda x: calendar.month_name[x],df_by_hour_update[\"Month\"]))\n",
    "\n"
   ]
  },
  {
   "cell_type": "code",
   "execution_count": 202,
   "metadata": {},
   "outputs": [
    {
     "data": {
      "text/html": [
       "<div>\n",
       "<style scoped>\n",
       "    .dataframe tbody tr th:only-of-type {\n",
       "        vertical-align: middle;\n",
       "    }\n",
       "\n",
       "    .dataframe tbody tr th {\n",
       "        vertical-align: top;\n",
       "    }\n",
       "\n",
       "    .dataframe thead th {\n",
       "        text-align: right;\n",
       "    }\n",
       "</style>\n",
       "<table border=\"1\" class=\"dataframe\">\n",
       "  <thead>\n",
       "    <tr style=\"text-align: right;\">\n",
       "      <th></th>\n",
       "      <th>index</th>\n",
       "      <th>station</th>\n",
       "      <th>timestamp</th>\n",
       "      <th>time</th>\n",
       "      <th>unique_turnstile_id</th>\n",
       "      <th>hour</th>\n",
       "      <th>diff_entries</th>\n",
       "      <th>diff_exits</th>\n",
       "      <th>total_traffic</th>\n",
       "      <th>weekday</th>\n",
       "      <th>Hourly_traffic</th>\n",
       "      <th>Hour</th>\n",
       "      <th>Month</th>\n",
       "    </tr>\n",
       "  </thead>\n",
       "  <tbody>\n",
       "    <tr>\n",
       "      <th>0</th>\n",
       "      <td>3245396</td>\n",
       "      <td>EASTCHSTER/DYRE</td>\n",
       "      <td>2019-07-26 17:00:00</td>\n",
       "      <td>17:00:00</td>\n",
       "      <td>R730R431 EASTCHSTER/DYRE 00-00-04</td>\n",
       "      <td>17</td>\n",
       "      <td>38.0</td>\n",
       "      <td>51.0</td>\n",
       "      <td>89.0</td>\n",
       "      <td>Friday</td>\n",
       "      <td>22.25</td>\n",
       "      <td>16-20</td>\n",
       "      <td>July</td>\n",
       "    </tr>\n",
       "    <tr>\n",
       "      <th>1</th>\n",
       "      <td>3245396</td>\n",
       "      <td>EASTCHSTER/DYRE</td>\n",
       "      <td>2019-07-26 17:00:00</td>\n",
       "      <td>17:00:00</td>\n",
       "      <td>R730R431 EASTCHSTER/DYRE 00-00-04</td>\n",
       "      <td>17</td>\n",
       "      <td>38.0</td>\n",
       "      <td>51.0</td>\n",
       "      <td>89.0</td>\n",
       "      <td>Friday</td>\n",
       "      <td>22.25</td>\n",
       "      <td>12-16</td>\n",
       "      <td>July</td>\n",
       "    </tr>\n",
       "    <tr>\n",
       "      <th>2</th>\n",
       "      <td>3245396</td>\n",
       "      <td>EASTCHSTER/DYRE</td>\n",
       "      <td>2019-07-26 17:00:00</td>\n",
       "      <td>17:00:00</td>\n",
       "      <td>R730R431 EASTCHSTER/DYRE 00-00-04</td>\n",
       "      <td>17</td>\n",
       "      <td>38.0</td>\n",
       "      <td>51.0</td>\n",
       "      <td>89.0</td>\n",
       "      <td>Friday</td>\n",
       "      <td>22.25</td>\n",
       "      <td>12-16</td>\n",
       "      <td>July</td>\n",
       "    </tr>\n",
       "    <tr>\n",
       "      <th>3</th>\n",
       "      <td>3245396</td>\n",
       "      <td>EASTCHSTER/DYRE</td>\n",
       "      <td>2019-07-26 17:00:00</td>\n",
       "      <td>17:00:00</td>\n",
       "      <td>R730R431 EASTCHSTER/DYRE 00-00-04</td>\n",
       "      <td>17</td>\n",
       "      <td>38.0</td>\n",
       "      <td>51.0</td>\n",
       "      <td>89.0</td>\n",
       "      <td>Friday</td>\n",
       "      <td>22.25</td>\n",
       "      <td>12-16</td>\n",
       "      <td>July</td>\n",
       "    </tr>\n",
       "    <tr>\n",
       "      <th>4</th>\n",
       "      <td>3245395</td>\n",
       "      <td>EASTCHSTER/DYRE</td>\n",
       "      <td>2019-07-26 13:00:00</td>\n",
       "      <td>13:00:00</td>\n",
       "      <td>R730R431 EASTCHSTER/DYRE 00-00-04</td>\n",
       "      <td>13</td>\n",
       "      <td>95.0</td>\n",
       "      <td>52.0</td>\n",
       "      <td>147.0</td>\n",
       "      <td>Friday</td>\n",
       "      <td>36.75</td>\n",
       "      <td>12-16</td>\n",
       "      <td>July</td>\n",
       "    </tr>\n",
       "    <tr>\n",
       "      <th>...</th>\n",
       "      <td>...</td>\n",
       "      <td>...</td>\n",
       "      <td>...</td>\n",
       "      <td>...</td>\n",
       "      <td>...</td>\n",
       "      <td>...</td>\n",
       "      <td>...</td>\n",
       "      <td>...</td>\n",
       "      <td>...</td>\n",
       "      <td>...</td>\n",
       "      <td>...</td>\n",
       "      <td>...</td>\n",
       "      <td>...</td>\n",
       "    </tr>\n",
       "    <tr>\n",
       "      <th>11373727</th>\n",
       "      <td>1</td>\n",
       "      <td>59 ST NQR456W</td>\n",
       "      <td>2019-03-30 04:00:00</td>\n",
       "      <td>04:00:00</td>\n",
       "      <td>A002R051 59 ST 02-00-00</td>\n",
       "      <td>4</td>\n",
       "      <td>23.0</td>\n",
       "      <td>46.0</td>\n",
       "      <td>69.0</td>\n",
       "      <td>Saturday</td>\n",
       "      <td>17.25</td>\n",
       "      <td>0-4</td>\n",
       "      <td>March</td>\n",
       "    </tr>\n",
       "    <tr>\n",
       "      <th>11373728</th>\n",
       "      <td>0</td>\n",
       "      <td>59 ST NQR456W</td>\n",
       "      <td>2019-03-30 00:00:00</td>\n",
       "      <td>00:00:00</td>\n",
       "      <td>A002R051 59 ST 02-00-00</td>\n",
       "      <td>0</td>\n",
       "      <td>20.0</td>\n",
       "      <td>8.0</td>\n",
       "      <td>28.0</td>\n",
       "      <td>Saturday</td>\n",
       "      <td>7.00</td>\n",
       "      <td>20-24</td>\n",
       "      <td>March</td>\n",
       "    </tr>\n",
       "    <tr>\n",
       "      <th>11373729</th>\n",
       "      <td>0</td>\n",
       "      <td>59 ST NQR456W</td>\n",
       "      <td>2019-03-30 00:00:00</td>\n",
       "      <td>00:00:00</td>\n",
       "      <td>A002R051 59 ST 02-00-00</td>\n",
       "      <td>0</td>\n",
       "      <td>20.0</td>\n",
       "      <td>8.0</td>\n",
       "      <td>28.0</td>\n",
       "      <td>Saturday</td>\n",
       "      <td>7.00</td>\n",
       "      <td>20-24</td>\n",
       "      <td>March</td>\n",
       "    </tr>\n",
       "    <tr>\n",
       "      <th>11373730</th>\n",
       "      <td>0</td>\n",
       "      <td>59 ST NQR456W</td>\n",
       "      <td>2019-03-30 00:00:00</td>\n",
       "      <td>00:00:00</td>\n",
       "      <td>A002R051 59 ST 02-00-00</td>\n",
       "      <td>0</td>\n",
       "      <td>20.0</td>\n",
       "      <td>8.0</td>\n",
       "      <td>28.0</td>\n",
       "      <td>Saturday</td>\n",
       "      <td>7.00</td>\n",
       "      <td>20-24</td>\n",
       "      <td>March</td>\n",
       "    </tr>\n",
       "    <tr>\n",
       "      <th>11373731</th>\n",
       "      <td>0</td>\n",
       "      <td>59 ST NQR456W</td>\n",
       "      <td>2019-03-30 00:00:00</td>\n",
       "      <td>00:00:00</td>\n",
       "      <td>A002R051 59 ST 02-00-00</td>\n",
       "      <td>0</td>\n",
       "      <td>20.0</td>\n",
       "      <td>8.0</td>\n",
       "      <td>28.0</td>\n",
       "      <td>Saturday</td>\n",
       "      <td>7.00</td>\n",
       "      <td>20-24</td>\n",
       "      <td>March</td>\n",
       "    </tr>\n",
       "  </tbody>\n",
       "</table>\n",
       "<p>11373732 rows × 13 columns</p>\n",
       "</div>"
      ],
      "text/plain": [
       "            index          station           timestamp      time  \\\n",
       "0         3245396  EASTCHSTER/DYRE 2019-07-26 17:00:00  17:00:00   \n",
       "1         3245396  EASTCHSTER/DYRE 2019-07-26 17:00:00  17:00:00   \n",
       "2         3245396  EASTCHSTER/DYRE 2019-07-26 17:00:00  17:00:00   \n",
       "3         3245396  EASTCHSTER/DYRE 2019-07-26 17:00:00  17:00:00   \n",
       "4         3245395  EASTCHSTER/DYRE 2019-07-26 13:00:00  13:00:00   \n",
       "...           ...              ...                 ...       ...   \n",
       "11373727        1    59 ST NQR456W 2019-03-30 04:00:00  04:00:00   \n",
       "11373728        0    59 ST NQR456W 2019-03-30 00:00:00  00:00:00   \n",
       "11373729        0    59 ST NQR456W 2019-03-30 00:00:00  00:00:00   \n",
       "11373730        0    59 ST NQR456W 2019-03-30 00:00:00  00:00:00   \n",
       "11373731        0    59 ST NQR456W 2019-03-30 00:00:00  00:00:00   \n",
       "\n",
       "                        unique_turnstile_id  hour  diff_entries  diff_exits  \\\n",
       "0         R730R431 EASTCHSTER/DYRE 00-00-04    17          38.0        51.0   \n",
       "1         R730R431 EASTCHSTER/DYRE 00-00-04    17          38.0        51.0   \n",
       "2         R730R431 EASTCHSTER/DYRE 00-00-04    17          38.0        51.0   \n",
       "3         R730R431 EASTCHSTER/DYRE 00-00-04    17          38.0        51.0   \n",
       "4         R730R431 EASTCHSTER/DYRE 00-00-04    13          95.0        52.0   \n",
       "...                                     ...   ...           ...         ...   \n",
       "11373727            A002R051 59 ST 02-00-00     4          23.0        46.0   \n",
       "11373728            A002R051 59 ST 02-00-00     0          20.0         8.0   \n",
       "11373729            A002R051 59 ST 02-00-00     0          20.0         8.0   \n",
       "11373730            A002R051 59 ST 02-00-00     0          20.0         8.0   \n",
       "11373731            A002R051 59 ST 02-00-00     0          20.0         8.0   \n",
       "\n",
       "          total_traffic   weekday  Hourly_traffic   Hour  Month  \n",
       "0                  89.0    Friday           22.25  16-20   July  \n",
       "1                  89.0    Friday           22.25  12-16   July  \n",
       "2                  89.0    Friday           22.25  12-16   July  \n",
       "3                  89.0    Friday           22.25  12-16   July  \n",
       "4                 147.0    Friday           36.75  12-16   July  \n",
       "...                 ...       ...             ...    ...    ...  \n",
       "11373727           69.0  Saturday           17.25    0-4  March  \n",
       "11373728           28.0  Saturday            7.00  20-24  March  \n",
       "11373729           28.0  Saturday            7.00  20-24  March  \n",
       "11373730           28.0  Saturday            7.00  20-24  March  \n",
       "11373731           28.0  Saturday            7.00  20-24  March  \n",
       "\n",
       "[11373732 rows x 13 columns]"
      ]
     },
     "execution_count": 202,
     "metadata": {},
     "output_type": "execute_result"
    }
   ],
   "source": [
    "df_by_hour_update\n",
    "\n",
    "dic_hour={\"0-4\":[0,1,2,3],\"04-08\":[4,5,6,7],\n",
    "              \"08-12\":[8,9,10,11],\"12-16\":[12,13,14,15],\n",
    "             \"16-20\":[16,17,18,19],\"20-24\":[20,21,22,23]}\n",
    "def fillin_hour_range(x):\n",
    "    for i, cata in dic_hour.items():\n",
    "        if x in cata:\n",
    "            x=i\n",
    "    return x\n",
    "        \n",
    "\n",
    "df_by_hour_update['Hour']= list(map(fillin_hour_range,df_by_hour_update['Hour']))\n",
    "df_by_hour_update"
   ]
  },
  {
   "cell_type": "markdown",
   "metadata": {},
   "source": [
    "### Plot for 34 ST-PENN STA (Top 1)"
   ]
  },
  {
   "cell_type": "code",
   "execution_count": 207,
   "metadata": {},
   "outputs": [],
   "source": [
    "#plot_penn_34.groupby([\"station\",\"Month\",\"Hour\"]).sum()\n"
   ]
  },
  {
   "cell_type": "code",
   "execution_count": 279,
   "metadata": {},
   "outputs": [
    {
     "name": "stdout",
     "output_type": "stream",
     "text": [
      "Hour\n",
      "0-4       3647220.75\n",
      "04-08     8167214.75\n",
      "08-12     6962065.25\n",
      "12-16    10125879.75\n",
      "16-20     3686248.50\n",
      "20-24      733764.00\n",
      "Name: Hourly_traffic, dtype: float64\n"
     ]
    },
    {
     "data": {
      "image/png": "[encoded data removed]",
      "text/plain": [
       "<Figure size 432x288 with 1 Axes>"
      ]
     },
     "metadata": {
      "needs_background": "light"
     },
     "output_type": "display_data"
    }
   ],
   "source": [
    "#34 ST-PENN STA\n",
    "penn_34=df_by_hour_update[df_by_hour_update.station==\"34 ST-PENN STA\"]\n",
    "\n",
    "#sorted(penn_34['hour'].value_counts())\n",
    "#penn_34['hour'].value_counts()\n",
    "plot_penn_34=penn_34.groupby([\"station\",\"Month\",\"Hour\"]).agg({'Hourly_traffic':'sum'}).reset_index()\n",
    "#df_penn_34.head(10)\n",
    "#plot_penn_34\n",
    "\n",
    "apr=plot_penn_34[plot_penn_34.Month=='April']\n",
    "may=plot_penn_34[plot_penn_34.Month=='May']\n",
    "jun=plot_penn_34[plot_penn_34.Month=='June']\n",
    "july=plot_penn_34[plot_penn_34.Month=='July']\n",
    "\n",
    "\n",
    "xticks = np.arange(6)+ (6 / 2.) * 0.2\n",
    "x_jun = np.arange(len(jun.Hour))\n",
    "x_july=np.arange(len(july.Hour))\n",
    "x_apr=np.arange(len(apr.Hour))\n",
    "x_may=np.arange(len(may.Hour))\n",
    "\n",
    "plt.bar(x_apr-0.3, apr.Hourly_traffic, color = 'b', width = 0.2);\n",
    "plt.bar(x_may-0.1, may.Hourly_traffic,color = 'r', width = 0.2);\n",
    "plt.bar(x_jun+0.1, jun.Hourly_traffic,color = 'c', width = 0.2);\n",
    "plt.bar(x_july+0.3, july.Hourly_traffic,color = 'y', width = 0.2);\n",
    "#plt.xlim([0 - 0.1, max(xticks) + (6 * 0.5)])\n",
    "plt.title('34 ST-PENN STA',family='sans-serif',fontsize = 15,color='b');\n",
    "plt.xlabel('Time (O\\'Clock)')\n",
    "plt.ylabel('Volume (Miliom)')\n",
    "#plt.linewidth(5)\n",
    "plt.xticks(np.arange(6),('0~4', '4~8', '8~12', '12~16', '16~20', '20~24'))\n",
    "#plt.yticks(np.linspace(0, 700000, 6))\n",
    "plt.text(-0.5, 1100000, '3.65M',\n",
    "        color='green', fontsize=15)\n",
    "\n",
    "plt.text(0.4, 2200000, '8.16M',\n",
    "        color='green', fontsize=15)\n",
    "\n",
    "plt.text(1.5, 1900000, '6.96M',\n",
    "        color='green', fontsize=15)\n",
    "\n",
    "\n",
    "plt.text(2.6, 2650000, '10.13M',\n",
    "        color='green', fontsize=15)\n",
    "\n",
    "\n",
    "plt.text(3.7, 1100000, '3.68M',\n",
    "        color='green', fontsize=15)\n",
    "\n",
    "plt.text(4.8, 200000, '0.7M',\n",
    "        color='green', fontsize=15)\n",
    "\n",
    "print(penn_34.groupby([\"Hour\"])[\"Hourly_traffic\"].sum())\n",
    "plt.legend(['April','May','JUNE','JULY'])\n",
    "plt.show();\n",
    "\n"
   ]
  },
  {
   "cell_type": "markdown",
   "metadata": {},
   "source": [
    "### Plot for GRD CNTRL-42 ST (Top 2)"
   ]
  },
  {
   "cell_type": "markdown",
   "metadata": {},
   "source": [
    "### GRD_CNTRL=df_by_hour_update[df_by_hour_update.station==\"GRD CNTRL-42 ST\"]\n",
    "plot_GRD_CNTRL=GRD_CNTRL.groupby([\"station\",\"Month\",\"Hour\"]).agg({'Hourly_traffic':'sum'}).reset_index()\n",
    "\n",
    "plot_GRD_CNTRL\n",
    "\n",
    "\n",
    "\n",
    "apr=plot_GRD_CNTRL[plot_GRD_CNTRL.Month=='April']\n",
    "may=plot_GRD_CNTRL[plot_GRD_CNTRL.Month=='May']\n",
    "jun=plot_GRD_CNTRL[plot_GRD_CNTRL.Month=='June']\n",
    "july=plot_GRD_CNTRL[plot_GRD_CNTRL.Month=='July']\n",
    "\n",
    "\n",
    "xticks = np.arange(6)+ (6 / 2.) * 0.2\n",
    "x_jun = np.arange(len(jun.Hour))\n",
    "x_july=np.arange(len(july.Hour))\n",
    "x_apr=np.arange(len(apr.Hour))\n",
    "x_may=np.arange(len(may.Hour))\n",
    "\n",
    "plt.bar(x_apr-0.3, apr.Hourly_traffic, color = 'b', width = 0.2);\n",
    "plt.bar(x_may-0.1, may.Hourly_traffic,color = 'r', width = 0.2);\n",
    "plt.bar(x_jun+0.1, jun.Hourly_traffic,color = 'c', width = 0.2);\n",
    "plt.bar(x_july+0.3, july.Hourly_traffic,color = 'y', width = 0.2);\n",
    "#plt.xlim([0 - 0.1, max(xticks) + (6 * 0.5)])\n",
    "plt.title('GRD CNTRL-42 ST',family='sans-serif',fontsize = 15,color='b');\n",
    "plt.xlabel('Time (O\\'Clock)')\n",
    "plt.ylabel('Volume (Miliom)')\n",
    "\n",
    "\n",
    "plt.text(-0.5, 1200000, '3.32M',\n",
    "        color='green', fontsize=15)\n",
    "\n",
    "plt.text(0.4, 2000000, '7.62M',\n",
    "        color='green', fontsize=15)\n",
    "\n",
    "plt.text(1.5, 1750000, '6.17M',\n",
    "        color='green', fontsize=15)\n",
    "\n",
    "plt.text(2.6, 2350000, '8.94M',\n",
    "        color='green', fontsize=15)\n",
    "\n",
    "plt.text(3.7, 950000, '3.09M',\n",
    "        color='green', fontsize=15)\n",
    "\n",
    "plt.text(4.8, 175000, '0.47M',\n",
    "        color='green', fontsize=15)\n",
    "\n",
    "print(GRD_CNTRL.groupby([\"Hour\"])[\"Hourly_traffic\"].sum())\n",
    "\n",
    "\n",
    "\n",
    "#plt.linewidth(5)\n",
    "plt.xticks(np.arange(6),('0~4', '4~8', '8~12', '12~16', '16~20', '20~24'))\n",
    "#plt.yticks(np.linspace(0, 700000, 6))\n",
    "plt.legend(['April','May','JUNE','JULY'])\n",
    "plt.show();\n",
    "\n",
    "\n",
    "\n",
    "\n"
   ]
  },
  {
   "cell_type": "markdown",
   "metadata": {},
   "source": [
    "# Plot for 34 ST-HERALD SQ (Top 3)"
   ]
  },
  {
   "cell_type": "code",
   "execution_count": 274,
   "metadata": {},
   "outputs": [
    {
     "name": "stdout",
     "output_type": "stream",
     "text": [
      "Hour\n",
      "0-4      1645874.75\n",
      "04-08    5920634.50\n",
      "08-12    5297996.50\n",
      "12-16    8592700.25\n",
      "16-20    3106555.25\n",
      "20-24     448795.75\n",
      "Name: Hourly_traffic, dtype: float64\n"
     ]
    },
    {
     "data": {
      "image/png": "[encoded data removed]",
      "text/plain": [
       "<Figure size 432x288 with 1 Axes>"
      ]
     },
     "metadata": {
      "needs_background": "light"
     },
     "output_type": "display_data"
    }
   ],
   "source": [
    "HERALD_34=df_by_hour_update[df_by_hour_update.station==\"34 ST-HERALD SQ\"]\n",
    "plot_HERALD_34=HERALD_34.groupby([\"station\",\"Month\",\"Hour\"]).agg({'Hourly_traffic':'sum'}).reset_index()\n",
    "\n",
    "plot_HERALD_34\n",
    "\n",
    "\n",
    "apr=plot_HERALD_34[plot_HERALD_34.Month=='April']\n",
    "may=plot_HERALD_34[plot_HERALD_34.Month=='May']\n",
    "jun=plot_HERALD_34[plot_HERALD_34.Month=='June']\n",
    "july=plot_HERALD_34[plot_HERALD_34.Month=='July']\n",
    "\n",
    "\n",
    "xticks = np.arange(6)+ (6 / 2.) * 0.2\n",
    "x_jun = np.arange(len(jun.Hour))\n",
    "x_july=np.arange(len(july.Hour))\n",
    "x_apr=np.arange(len(apr.Hour))\n",
    "x_may=np.arange(len(may.Hour))\n",
    "\n",
    "plt.bar(x_apr-0.3, apr.Hourly_traffic, color = 'b', width = 0.2);\n",
    "plt.bar(x_may-0.1, may.Hourly_traffic,color = 'r', width = 0.2);\n",
    "plt.bar(x_jun+0.1, jun.Hourly_traffic,color = 'c', width = 0.2);\n",
    "plt.bar(x_july+0.3, july.Hourly_traffic,color = 'y', width = 0.2);\n",
    "#plt.xlim([0 - 0.1, max(xticks) + (6 * 0.5)])\n",
    "plt.title('34 ST-HERALD SQ',family='sans-serif',fontsize = 15,color='b');\n",
    "plt.xlabel('Time (O\\'Clock)')\n",
    "plt.ylabel('Volume (Miliom)')\n",
    "\n",
    "plt.text(-0.5, 800000, '1.64M',\n",
    "        color='green', fontsize=15)\n",
    "\n",
    "plt.text(0.4, 1600000, '5.92M',\n",
    "        color='green', fontsize=15)\n",
    "\n",
    "plt.text(1.5, 1500000, '5.29M',\n",
    "        color='green', fontsize=15)\n",
    "\n",
    "plt.text(2.6, 2250000, '8.59M',\n",
    "        color='green', fontsize=15)\n",
    "\n",
    "plt.text(3.7, 900000, '3.11M',\n",
    "        color='green', fontsize=15)\n",
    "\n",
    "plt.text(4.8, 175000, '0.49M',\n",
    "        color='green', fontsize=15)\n",
    "\n",
    "print(HERALD_34.groupby([\"Hour\"])[\"Hourly_traffic\"].sum())\n",
    "\n",
    "\n",
    "\n",
    "#plt.linewidth(5)\n",
    "plt.xticks(np.arange(6),('0~4', '4~8', '8~12', '12~16', '16~20', '20~24'))\n",
    "#plt.yticks(np.linspace(0, 700000, 6))\n",
    "plt.legend(['April','May','JUNE','JULY'])\n",
    "plt.show();\n",
    "\n"
   ]
  },
  {
   "cell_type": "markdown",
   "metadata": {},
   "source": [
    "### Plot for TIMES SQ-42 ST (Top 4)"
   ]
  },
  {
   "cell_type": "code",
   "execution_count": 27,
   "metadata": {},
   "outputs": [
    {
     "data": {
      "text/plain": [
       "array([16, 12,  8,  4,  0, 20, 14, 13,  7, 19,  9, 18, 10, 11])"
      ]
     },
     "execution_count": 27,
     "metadata": {},
     "output_type": "execute_result"
    }
   ],
   "source": [
    "TIMES_SQ['hour'].unique()"
   ]
  },
  {
   "cell_type": "code",
   "execution_count": 214,
   "metadata": {},
   "outputs": [
    {
     "data": {
      "image/png": "[encoded data removed]",
      "text/plain": [
       "<Figure size 432x288 with 1 Axes>"
      ]
     },
     "metadata": {
      "needs_background": "light"
     },
     "output_type": "display_data"
    }
   ],
   "source": [
    "TIMES_SQ=df_by_hour_update[df_by_hour_update.station==\"TIMES SQ-42 ST\"]\n",
    "plot_TIMES_SQ=TIMES_SQ.groupby([\"station\",\"Month\",\"Hour\"]).agg({'Hourly_traffic':'sum'}).reset_index()\n",
    "\n",
    "plot_TIMES_SQ\n",
    "\n",
    "\n",
    "apr=plot_TIMES_SQ[plot_TIMES_SQ.Month=='April']\n",
    "may=plot_TIMES_SQ[plot_TIMES_SQ.Month=='May']\n",
    "jun=plot_TIMES_SQ[plot_TIMES_SQ.Month=='June']\n",
    "july=plot_TIMES_SQ[plot_TIMES_SQ.Month=='July']\n",
    "\n",
    "\n",
    "xticks = np.arange(6)+ (6 / 2.) * 0.2\n",
    "x_jun = np.arange(len(jun.Hour))\n",
    "x_july=np.arange(len(july.Hour))\n",
    "x_apr=np.arange(len(apr.Hour))\n",
    "x_may=np.arange(len(may.Hour))\n",
    "\n",
    "plt.bar(x_apr-0.3, apr.Hourly_traffic, color = 'b', width = 0.2);\n",
    "plt.bar(x_may-0.1, may.Hourly_traffic,color = 'r', width = 0.2);\n",
    "plt.bar(x_jun+0.1, jun.Hourly_traffic,color = 'c', width = 0.2);\n",
    "plt.bar(x_july+0.3, july.Hourly_traffic,color = 'y', width = 0.2);\n",
    "#plt.xlim([0 - 0.1, max(xticks) + (6 * 0.5)])\n",
    "plt.title('TIMES SQ-42 ST',family='sans-serif',fontsize = 15,color='b');\n",
    "plt.xlabel('Time (O\\'Clock)')\n",
    "plt.ylabel('Volume (Miliom)')\n",
    "#plt.linewidth(5)\n",
    "plt.xticks(np.arange(6),('0~4', '4~8', '8~12', '12~16', '16~20', '20~24'))\n",
    "#plt.yticks(np.linspace(0, 700000, 6))\n",
    "plt.legend(['April','May','JUNE','JULY'])\n",
    "plt.show();"
   ]
  },
  {
   "cell_type": "markdown",
   "metadata": {},
   "source": [
    "#### Plot for 14 ST-UNION SQ (Top 5)"
   ]
  },
  {
   "cell_type": "code",
   "execution_count": 215,
   "metadata": {},
   "outputs": [
    {
     "data": {
      "image/png": "[encoded data removed]",
      "text/plain": [
       "<Figure size 432x288 with 1 Axes>"
      ]
     },
     "metadata": {
      "needs_background": "light"
     },
     "output_type": "display_data"
    }
   ],
   "source": [
    "UNION_SQ_14=df_by_hour_update[df_by_hour_update.station==\"14 ST-UNION SQ\"]\n",
    "plot_UNION_SQ_14=TIMES_SQ.groupby([\"station\",\"Month\",\"Hour\"]).agg({'Hourly_traffic':'sum'}).reset_index()\n",
    "\n",
    "plot_UNION_SQ_14\n",
    "\n",
    "\n",
    "apr=plot_UNION_SQ_14[plot_UNION_SQ_14.Month=='April']\n",
    "may=plot_UNION_SQ_14[plot_UNION_SQ_14.Month=='May']\n",
    "jun=plot_UNION_SQ_14[plot_UNION_SQ_14.Month=='June']\n",
    "july=plot_UNION_SQ_14[plot_UNION_SQ_14.Month=='July']\n",
    "\n",
    "\n",
    "xticks = np.arange(6)+ (6 / 2.) * 0.2\n",
    "x_jun = np.arange(len(jun.Hour))\n",
    "x_july=np.arange(len(july.Hour))\n",
    "x_apr=np.arange(len(apr.Hour))\n",
    "x_may=np.arange(len(may.Hour))\n",
    "\n",
    "plt.bar(x_apr-0.3, apr.Hourly_traffic, color = 'b', width = 0.2);\n",
    "plt.bar(x_may-0.1, may.Hourly_traffic,color = 'r', width = 0.2);\n",
    "plt.bar(x_jun+0.1, jun.Hourly_traffic,color = 'c', width = 0.2);\n",
    "plt.bar(x_july+0.3, july.Hourly_traffic,color = 'y', width = 0.2);\n",
    "#plt.xlim([0 - 0.1, max(xticks) + (6 * 0.5)])\n",
    "plt.title('14 ST-UNION SQ',family='sans-serif',fontsize = 15,color='b');\n",
    "plt.xlabel('Time (O\\'Clock)')\n",
    "plt.ylabel('Volume (Miliom)')\n",
    "#plt.linewidth(5)\n",
    "plt.xticks(np.arange(6),('0~4', '4~8', '8~12', '12~16', '16~20', '20~24'))\n",
    "#plt.yticks(np.linspace(0, 700000, 6))\n",
    "plt.legend(['April','May','JUNE','JULY'])\n",
    "plt.show();"
   ]
  },
  {
   "cell_type": "markdown",
   "metadata": {},
   "source": [
    "# Volumn by each day of week"
   ]
  },
  {
   "cell_type": "code",
   "execution_count": 216,
   "metadata": {},
   "outputs": [],
   "source": [
    "df_week=df_by_hour_update\n",
    "calendar.day_name[df_week[\"timestamp\"][1].weekday()]\n",
    "df_week[\"Week\"]= list(map(lambda x: calendar.day_name[x.weekday()], \n",
    "                          df_week[\"timestamp\"]))\n"
   ]
  },
  {
   "cell_type": "code",
   "execution_count": 217,
   "metadata": {},
   "outputs": [
    {
     "data": {
      "text/plain": [
       "<AxesSubplot:xlabel='Week', ylabel='Hour'>"
      ]
     },
     "execution_count": 217,
     "metadata": {},
     "output_type": "execute_result"
    },
    {
     "data": {
      "image/png": "[encoded data removed]",
      "text/plain": [
       "<Figure size 432x288 with 2 Axes>"
      ]
     },
     "metadata": {
      "needs_background": "light"
     },
     "output_type": "display_data"
    }
   ],
   "source": [
    "a=df_week.groupby([\"Week\",\"Hour\"]).agg({'Hourly_traffic':'sum'}).reset_index()\n",
    "a['Hourly_traffic']=a['Hourly_traffic']/1000000\n",
    "pv=a.pivot('Hour','Week','Hourly_traffic')\n",
    "\n",
    "pv = pv[['Sunday','Monday', 'Tuesday', 'Wednesday', 'Thursday', 'Friday', 'Saturday']]\n",
    "sns.heatmap(pv, cmap=\"Blues\", annot=True)\n",
    "\n",
    "\n",
    "#week['VOLUME_NUM']=week['VOLUME_NUM'].apply(lambda x: '%.f' % x)\n",
    "#cats = [ 'Monday', 'Tuesday', 'Wednesday', 'Thursday', 'Friday', 'Saturday', 'Sunday']\n",
    "#stations_weekly = stations_weekly.groupby(['DAY OF WEEK']).sum().reindex(cats) \n",
    "#stations_weekly.reset_index(inplace=True)\n",
    "#p1=sns.heatmap(a)"
   ]
  },
  {
   "cell_type": "code",
   "execution_count": null,
   "metadata": {},
   "outputs": [],
   "source": []
  },
  {
   "cell_type": "code",
   "execution_count": null,
   "metadata": {},
   "outputs": [],
   "source": []
  }
 ],
 "metadata": {
  "kernelspec": {
   "display_name": "Python 3",
   "language": "python",
   "name": "python3"
  },
  "language_info": {
   "codemirror_mode": {
    "name": "ipython",
    "version": 3
   },
   "file_extension": ".py",
   "mimetype": "text/x-python",
   "name": "python",
   "nbconvert_exporter": "python",
   "pygments_lexer": "ipython3",
   "version": "3.8.5"
  }
 },
 "nbformat": 4,
 "nbformat_minor": 4
}
