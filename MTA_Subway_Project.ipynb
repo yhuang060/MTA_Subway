{
 "cells": [
  {
   "cell_type": "markdown",
   "metadata": {},
   "source": [
    "## Metis Project 1 - MTA Turnstile data analysis\n",
    "\n",
    "1. Initialization & Data Cleaning\n",
    "3. Identify Top 10 Stations\n",
    "4. Identify best days of week\n",
    "5. Identify best times of day\n",
    "\n"
   ]
  },
  {
   "cell_type": "markdown",
   "metadata": {},
   "source": [
    "---\n",
    "\n",
    "### 1. Initialization & Data Cleaning"
   ]
  },
  {
   "cell_type": "code",
   "execution_count": 10,
   "metadata": {},
   "outputs": [],
   "source": [
    "#import libraries\n",
    "import pandas as pd\n",
    "import seaborn as sns\n",
    "\n",
    "import numpy as np\n",
    "from datetime import datetime as dt\n",
    "import matplotlib.pyplot as plt\n",
    "import numpy as np\n",
    "import calendar\n",
    "import seaborn as sns\n"
   ]
  },
  {
   "cell_type": "markdown",
   "metadata": {},
   "source": [
    "Import data for range April - July 2019"
   ]
  },
  {
   "cell_type": "code",
   "execution_count": 11,
   "metadata": {},
   "outputs": [],
   "source": [
    "# Source: http://web.mta.info/developers/turnstile.html\n",
    "def get_data(week_nums):\n",
    "    url = \"http://web.mta.info/developers/data/nyct/turnstile/turnstile_{}.txt\"\n",
    "    dfs = []\n",
    "    for week_num in week_nums:\n",
    "        file_url = url.format(week_num)\n",
    "        dfs.append(pd.read_csv(file_url))\n",
    "    return pd.concat(dfs)\n",
    "\n",
    "week_nums = [190406, 190413, 190420, 190427, 190504, 190511, 190518, 190525, 190601, 190608, 190615, 190622, 190629, 190706, 190713, 190720, 190727]       \n",
    "df = get_data(week_nums)"
   ]
  },
  {
   "cell_type": "code",
   "execution_count": 12,
   "metadata": {},
   "outputs": [],
   "source": [
    "#in case ruin the dataframe\n",
    "xyz=df.copy()"
   ]
  },
  {
   "cell_type": "markdown",
   "metadata": {},
   "source": [
    "Tidy columns & filter"
   ]
  },
  {
   "cell_type": "code",
   "execution_count": 13,
   "metadata": {},
   "outputs": [],
   "source": [
    "#clean column names\n",
    "df.rename(columns={'C/A': 'c_a', 'UNIT': 'unit', 'SCP': 'scp', 'STATION': 'station', 'LINENAME': 'linename', 'DIVISION': 'division', 'DATE': 'date','TIME': 'time', 'DESC': 'desc', 'ENTRIES': 'entries', df.columns[10]: 'exits'}, inplace=True)\n",
    "\n",
    "#keep only subway divisions (BMT, IND, IRT)\n",
    "df = df[(df['division'] == 'BMT') | (df['division'] == 'IND') | (df['division'] == 'IRT')]\n",
    "\n",
    "#Add formatted timestamp column\n",
    "df['timestamp'] = pd.to_datetime(df['date'] + \" \" + df['time'])\n",
    "\n",
    "#add unique turnstile id\n",
    "df['unique_turnstile_id'] = df['c_a'] + df['unit'] + ' ' + df['station'] + ' ' + df['scp']\n",
    "\n",
    "#add day of week column\n",
    "df['day_of_week'] = df.timestamp.dt.day_name()\n",
    "\n",
    "#add Hour\n",
    "df['hour']= list(map(lambda x: int(x.split(':')[0]),df['time'][:]))\n",
    "\n",
    "df = df.reset_index()"
   ]
  },
  {
   "cell_type": "code",
   "execution_count": 14,
   "metadata": {},
   "outputs": [],
   "source": [
    "# Get rid of duplicate entries caused by \"RECOVER AUD\" in desc column, if any\n",
    "df.sort_values([\"c_a\", \"unit\", \"scp\", \"station\", \"timestamp\"], \n",
    "                          inplace=True, ascending=False)\n",
    "df.drop_duplicates(subset=[\"c_a\", \"unit\", \"scp\", \"station\", \"timestamp\"], inplace=True)"
   ]
  },
  {
   "cell_type": "markdown",
   "metadata": {},
   "source": [
    "Break out stations previously identified in top 10, but actually having separate locations."
   ]
  },
  {
   "cell_type": "code",
   "execution_count": 15,
   "metadata": {},
   "outputs": [],
   "source": [
    "def rename_station(row):\n",
    "    if row.station == '23 ST' or row.station == '86 ST' or row.station == '125 ST' or row.station == '59 ST' or row.station == '96 ST' or row.station == '14 ST':\n",
    "        row.station = row.station + ' ' + row.linename\n",
    "    return row"
   ]
  },
  {
   "cell_type": "code",
   "execution_count": 16,
   "metadata": {},
   "outputs": [],
   "source": [
    "df = df.apply(rename_station, axis='columns')"
   ]
  },
  {
   "cell_type": "markdown",
   "metadata": {},
   "source": [
    "Calculate net traffic based on previous turnstile entry.\n",
    "\n",
    "Additionally, remove the first row of each unique turnstile data. Those rows will have erroneous values since the previous row will be the last of a different turnstile. Therefore, data does not match the same turnstile."
   ]
  },
  {
   "cell_type": "code",
   "execution_count": 17,
   "metadata": {},
   "outputs": [],
   "source": [
    "#keep only needed columns\n",
    "df = df.loc[:,['station', 'entries', 'exits', 'timestamp', 'unique_turnstile_id','hour']]"
   ]
  },
  {
   "cell_type": "code",
   "execution_count": 18,
   "metadata": {},
   "outputs": [],
   "source": [
    "#calculate actual volumes for each record (record minus previous record)\n",
    "#absolute value used to handle turnstiles that decrement instead of incrementing counts\n",
    "df['diff_entries'] = abs(df.entries.diff())\n",
    "df['diff_exits'] = abs(df.exits.diff())\n",
    "df['total_traffic'] = df.diff_entries + df.diff_exits\n",
    "\n",
    "#record index in new column (needed to identify first instance of turnstile data)\n",
    "df['record_index'] = df.index"
   ]
  },
  {
   "cell_type": "code",
   "execution_count": 19,
   "metadata": {},
   "outputs": [],
   "source": [
    "#identify first rows of unique turnstile data\n",
    "df_first_rows = df.groupby('unique_turnstile_id').first()\n",
    "\n",
    "#index of records of first turnstile rows\n",
    "list_index = df_first_rows.record_index.values\n",
    "\n",
    "#drop first rows from main df\n",
    "df.drop(list_index, inplace=True)"
   ]
  },
  {
   "cell_type": "markdown",
   "metadata": {},
   "source": [
    "Additional clean up to:\n",
    "- Remove any rows with net traffic < 1 or more than 14,400 in 4-hour period. We used this number because this would be 1 person through the turnstile per second over the 4-hour period. Anything recorded above that seems unreasonable and erroneous\n",
    "- Drop `record_index` column previously used to identify first rows of turnstile data. No longer needed"
   ]
  },
  {
   "cell_type": "code",
   "execution_count": 20,
   "metadata": {},
   "outputs": [],
   "source": [
    "#keep only data with traffic > 0 amd < 14400 (1 person per second)\n",
    "df = df[(df['total_traffic'] > 0) & (df['total_traffic'] < 14400)]"
   ]
  },
  {
   "cell_type": "code",
   "execution_count": 21,
   "metadata": {},
   "outputs": [
    {
     "data": {
      "text/plain": [
       "(2832424, 11)"
      ]
     },
     "execution_count": 21,
     "metadata": {},
     "output_type": "execute_result"
    }
   ],
   "source": [
    "df[\"weekday\"] = df[\"timestamp\"].dt.day_name()\n",
    "df.shape"
   ]
  },
  {
   "cell_type": "code",
   "execution_count": 22,
   "metadata": {},
   "outputs": [],
   "source": [
    "#drop record index column. no longer applies after re-indexing\n",
    "df.drop(['record_index', 'entries', 'exits'], axis=1, inplace=True)"
   ]
  },
  {
   "cell_type": "code",
   "execution_count": 23,
   "metadata": {},
   "outputs": [],
   "source": [
    "df = df.reset_index()"
   ]
  },
  {
   "cell_type": "markdown",
   "metadata": {},
   "source": [
    "---\n",
    "\n",
    "### 2. Identify Top 10 Stations"
   ]
  },
  {
   "cell_type": "code",
   "execution_count": 24,
   "metadata": {},
   "outputs": [
    {
     "data": {
      "text/html": [
       "<div>\n",
       "<style scoped>\n",
       "    .dataframe tbody tr th:only-of-type {\n",
       "        vertical-align: middle;\n",
       "    }\n",
       "\n",
       "    .dataframe tbody tr th {\n",
       "        vertical-align: top;\n",
       "    }\n",
       "\n",
       "    .dataframe thead th {\n",
       "        text-align: right;\n",
       "    }\n",
       "</style>\n",
       "<table border=\"1\" class=\"dataframe\">\n",
       "  <thead>\n",
       "    <tr style=\"text-align: right;\">\n",
       "      <th></th>\n",
       "      <th>station</th>\n",
       "      <th>total_traffic</th>\n",
       "    </tr>\n",
       "  </thead>\n",
       "  <tbody>\n",
       "    <tr>\n",
       "      <th>69</th>\n",
       "      <td>34 ST-PENN STA</td>\n",
       "      <td>33322393.0</td>\n",
       "    </tr>\n",
       "    <tr>\n",
       "      <th>245</th>\n",
       "      <td>GRD CNTRL-42 ST</td>\n",
       "      <td>29065257.0</td>\n",
       "    </tr>\n",
       "    <tr>\n",
       "      <th>67</th>\n",
       "      <td>34 ST-HERALD SQ</td>\n",
       "      <td>25012557.0</td>\n",
       "    </tr>\n",
       "    <tr>\n",
       "      <th>349</th>\n",
       "      <td>TIMES SQ-42 ST</td>\n",
       "      <td>20961309.0</td>\n",
       "    </tr>\n",
       "    <tr>\n",
       "      <th>19</th>\n",
       "      <td>14 ST-UNION SQ</td>\n",
       "      <td>20533165.0</td>\n",
       "    </tr>\n",
       "    <tr>\n",
       "      <th>76</th>\n",
       "      <td>42 ST-PORT AUTH</td>\n",
       "      <td>19969747.0</td>\n",
       "    </tr>\n",
       "    <tr>\n",
       "      <th>238</th>\n",
       "      <td>FULTON ST</td>\n",
       "      <td>18241509.0</td>\n",
       "    </tr>\n",
       "    <tr>\n",
       "      <th>187</th>\n",
       "      <td>CANAL ST</td>\n",
       "      <td>14546518.0</td>\n",
       "    </tr>\n",
       "    <tr>\n",
       "      <th>94</th>\n",
       "      <td>59 ST COLUMBUS</td>\n",
       "      <td>13759907.0</td>\n",
       "    </tr>\n",
       "    <tr>\n",
       "      <th>80</th>\n",
       "      <td>47-50 STS ROCK</td>\n",
       "      <td>12041838.0</td>\n",
       "    </tr>\n",
       "  </tbody>\n",
       "</table>\n",
       "</div>"
      ],
      "text/plain": [
       "             station  total_traffic\n",
       "69    34 ST-PENN STA     33322393.0\n",
       "245  GRD CNTRL-42 ST     29065257.0\n",
       "67   34 ST-HERALD SQ     25012557.0\n",
       "349   TIMES SQ-42 ST     20961309.0\n",
       "19    14 ST-UNION SQ     20533165.0\n",
       "76   42 ST-PORT AUTH     19969747.0\n",
       "238        FULTON ST     18241509.0\n",
       "187         CANAL ST     14546518.0\n",
       "94    59 ST COLUMBUS     13759907.0\n",
       "80    47-50 STS ROCK     12041838.0"
      ]
     },
     "execution_count": 24,
     "metadata": {},
     "output_type": "execute_result"
    }
   ],
   "source": [
    "df_by_station = df.groupby(\"station\").agg({\"total_traffic\": 'sum'}).reset_index().sort_values(by=\"total_traffic\", ascending=False)\n",
    "df_by_station.head(10)"
   ]
  },
  {
   "cell_type": "code",
   "execution_count": 25,
   "metadata": {},
   "outputs": [],
   "source": [
    "#save top 10 in list\n",
    "top10_list = list(df_by_station.station.head(10))"
   ]
  },
  {
   "cell_type": "code",
   "execution_count": 26,
   "metadata": {},
   "outputs": [
    {
     "data": {
      "text/plain": [
       "['34 ST-PENN STA',\n",
       " 'GRD CNTRL-42 ST',\n",
       " '34 ST-HERALD SQ',\n",
       " 'TIMES SQ-42 ST',\n",
       " '14 ST-UNION SQ',\n",
       " '42 ST-PORT AUTH',\n",
       " 'FULTON ST',\n",
       " 'CANAL ST',\n",
       " '59 ST COLUMBUS',\n",
       " '47-50 STS ROCK']"
      ]
     },
     "execution_count": 26,
     "metadata": {},
     "output_type": "execute_result"
    }
   ],
   "source": [
    "top10_list"
   ]
  },
  {
   "cell_type": "markdown",
   "metadata": {},
   "source": [
    "Calculate the proportion of volume held by top 3 & top 10 stations"
   ]
  },
  {
   "cell_type": "code",
   "execution_count": 27,
   "metadata": {},
   "outputs": [
    {
     "name": "stdout",
     "output_type": "stream",
     "text": [
      "Top 3 stations account for 8.6% of volume\n"
     ]
    }
   ],
   "source": [
    "top_3 = round(df_by_station.iloc[0:3].total_traffic.sum() / df_by_station.total_traffic.sum(), 3) * 100\n",
    "print(f'Top 3 stations account for {top_3}% of volume')"
   ]
  },
  {
   "cell_type": "code",
   "execution_count": 28,
   "metadata": {},
   "outputs": [
    {
     "name": "stdout",
     "output_type": "stream",
     "text": [
      "Top 10 stations account for 20.5% of volume\n"
     ]
    }
   ],
   "source": [
    "top_10 = round((df_by_station.iloc[0:10].total_traffic.sum() / df_by_station.total_traffic.sum()) * 100, 1)\n",
    "print(f'Top 10 stations account for {top_10}% of volume')"
   ]
  },
  {
   "cell_type": "markdown",
   "metadata": {},
   "source": [
    "---\n",
    "\n",
    "### 3. Identify best days of week for Top 10"
   ]
  },
  {
   "cell_type": "code",
   "execution_count": 29,
   "metadata": {},
   "outputs": [],
   "source": [
    "#add day of week column\n",
    "df[\"weekday\"] = df[\"timestamp\"].dt.day_name()"
   ]
  },
  {
   "cell_type": "code",
   "execution_count": 30,
   "metadata": {},
   "outputs": [
    {
     "data": {
      "text/html": [
       "<div>\n",
       "<style scoped>\n",
       "    .dataframe tbody tr th:only-of-type {\n",
       "        vertical-align: middle;\n",
       "    }\n",
       "\n",
       "    .dataframe tbody tr th {\n",
       "        vertical-align: top;\n",
       "    }\n",
       "\n",
       "    .dataframe thead th {\n",
       "        text-align: right;\n",
       "    }\n",
       "</style>\n",
       "<table border=\"1\" class=\"dataframe\">\n",
       "  <thead>\n",
       "    <tr style=\"text-align: right;\">\n",
       "      <th></th>\n",
       "      <th>station</th>\n",
       "      <th>weekday</th>\n",
       "      <th>total_traffic</th>\n",
       "    </tr>\n",
       "  </thead>\n",
       "  <tbody>\n",
       "    <tr>\n",
       "      <th>489</th>\n",
       "      <td>34 ST-PENN STA</td>\n",
       "      <td>Wednesday</td>\n",
       "      <td>5738987.0</td>\n",
       "    </tr>\n",
       "    <tr>\n",
       "      <th>488</th>\n",
       "      <td>34 ST-PENN STA</td>\n",
       "      <td>Tuesday</td>\n",
       "      <td>5698597.0</td>\n",
       "    </tr>\n",
       "    <tr>\n",
       "      <th>487</th>\n",
       "      <td>34 ST-PENN STA</td>\n",
       "      <td>Thursday</td>\n",
       "      <td>5639291.0</td>\n",
       "    </tr>\n",
       "    <tr>\n",
       "      <th>483</th>\n",
       "      <td>34 ST-PENN STA</td>\n",
       "      <td>Friday</td>\n",
       "      <td>5389296.0</td>\n",
       "    </tr>\n",
       "    <tr>\n",
       "      <th>484</th>\n",
       "      <td>34 ST-PENN STA</td>\n",
       "      <td>Monday</td>\n",
       "      <td>5317194.0</td>\n",
       "    </tr>\n",
       "    <tr>\n",
       "      <th>...</th>\n",
       "      <td>...</td>\n",
       "      <td>...</td>\n",
       "      <td>...</td>\n",
       "    </tr>\n",
       "    <tr>\n",
       "      <th>2195</th>\n",
       "      <td>ORCHARD BEACH</td>\n",
       "      <td>Thursday</td>\n",
       "      <td>1396.0</td>\n",
       "    </tr>\n",
       "    <tr>\n",
       "      <th>2197</th>\n",
       "      <td>ORCHARD BEACH</td>\n",
       "      <td>Wednesday</td>\n",
       "      <td>282.0</td>\n",
       "    </tr>\n",
       "    <tr>\n",
       "      <th>2191</th>\n",
       "      <td>ORCHARD BEACH</td>\n",
       "      <td>Friday</td>\n",
       "      <td>232.0</td>\n",
       "    </tr>\n",
       "    <tr>\n",
       "      <th>2192</th>\n",
       "      <td>ORCHARD BEACH</td>\n",
       "      <td>Monday</td>\n",
       "      <td>197.0</td>\n",
       "    </tr>\n",
       "    <tr>\n",
       "      <th>2196</th>\n",
       "      <td>ORCHARD BEACH</td>\n",
       "      <td>Tuesday</td>\n",
       "      <td>96.0</td>\n",
       "    </tr>\n",
       "  </tbody>\n",
       "</table>\n",
       "<p>2611 rows × 3 columns</p>\n",
       "</div>"
      ],
      "text/plain": [
       "             station    weekday  total_traffic\n",
       "489   34 ST-PENN STA  Wednesday      5738987.0\n",
       "488   34 ST-PENN STA    Tuesday      5698597.0\n",
       "487   34 ST-PENN STA   Thursday      5639291.0\n",
       "483   34 ST-PENN STA     Friday      5389296.0\n",
       "484   34 ST-PENN STA     Monday      5317194.0\n",
       "...              ...        ...            ...\n",
       "2195   ORCHARD BEACH   Thursday         1396.0\n",
       "2197   ORCHARD BEACH  Wednesday          282.0\n",
       "2191   ORCHARD BEACH     Friday          232.0\n",
       "2192   ORCHARD BEACH     Monday          197.0\n",
       "2196   ORCHARD BEACH    Tuesday           96.0\n",
       "\n",
       "[2611 rows x 3 columns]"
      ]
     },
     "execution_count": 30,
     "metadata": {},
     "output_type": "execute_result"
    }
   ],
   "source": [
    "#groupby station and weekday\n",
    "df_by_station = df.groupby([\"station\", \"weekday\"]).agg({'total_traffic': 'sum'}).reset_index().sort_values(by=\"total_traffic\", ascending=False)\n",
    "df_by_station"
   ]
  },
  {
   "cell_type": "markdown",
   "metadata": {},
   "source": [
    "Filter rows for top 10 and identify best days"
   ]
  },
  {
   "cell_type": "code",
   "execution_count": 31,
   "metadata": {},
   "outputs": [],
   "source": [
    "df_top10_byday = df_by_station.loc[df_by_station['station'].isin(top10_list)]\n",
    "#df_top10_byday(10)"
   ]
  },
  {
   "cell_type": "markdown",
   "metadata": {},
   "source": [
    "Create pivot to stage for heatmap"
   ]
  },
  {
   "cell_type": "code",
   "execution_count": 32,
   "metadata": {},
   "outputs": [
    {
     "data": {
      "text/html": [
       "<div>\n",
       "<style scoped>\n",
       "    .dataframe tbody tr th:only-of-type {\n",
       "        vertical-align: middle;\n",
       "    }\n",
       "\n",
       "    .dataframe tbody tr th {\n",
       "        vertical-align: top;\n",
       "    }\n",
       "\n",
       "    .dataframe thead th {\n",
       "        text-align: right;\n",
       "    }\n",
       "</style>\n",
       "<table border=\"1\" class=\"dataframe\">\n",
       "  <thead>\n",
       "    <tr style=\"text-align: right;\">\n",
       "      <th>weekday</th>\n",
       "      <th>Sunday</th>\n",
       "      <th>Monday</th>\n",
       "      <th>Tuesday</th>\n",
       "      <th>Wednesday</th>\n",
       "      <th>Thursday</th>\n",
       "      <th>Friday</th>\n",
       "      <th>Saturday</th>\n",
       "    </tr>\n",
       "    <tr>\n",
       "      <th>station</th>\n",
       "      <th></th>\n",
       "      <th></th>\n",
       "      <th></th>\n",
       "      <th></th>\n",
       "      <th></th>\n",
       "      <th></th>\n",
       "      <th></th>\n",
       "    </tr>\n",
       "  </thead>\n",
       "  <tbody>\n",
       "    <tr>\n",
       "      <th>34 ST-PENN STA</th>\n",
       "      <td>2544634.0</td>\n",
       "      <td>5317194.0</td>\n",
       "      <td>5698597.0</td>\n",
       "      <td>5738987.0</td>\n",
       "      <td>5639291.0</td>\n",
       "      <td>5389296.0</td>\n",
       "      <td>2994394.0</td>\n",
       "    </tr>\n",
       "    <tr>\n",
       "      <th>GRD CNTRL-42 ST</th>\n",
       "      <td>1570693.0</td>\n",
       "      <td>4909459.0</td>\n",
       "      <td>5314691.0</td>\n",
       "      <td>5309667.0</td>\n",
       "      <td>5198165.0</td>\n",
       "      <td>4747073.0</td>\n",
       "      <td>2015509.0</td>\n",
       "    </tr>\n",
       "    <tr>\n",
       "      <th>34 ST-HERALD SQ</th>\n",
       "      <td>1953345.0</td>\n",
       "      <td>3886188.0</td>\n",
       "      <td>4162325.0</td>\n",
       "      <td>4270606.0</td>\n",
       "      <td>4148644.0</td>\n",
       "      <td>4099599.0</td>\n",
       "      <td>2491850.0</td>\n",
       "    </tr>\n",
       "    <tr>\n",
       "      <th>TIMES SQ-42 ST</th>\n",
       "      <td>1710574.0</td>\n",
       "      <td>3116497.0</td>\n",
       "      <td>3484264.0</td>\n",
       "      <td>3584389.0</td>\n",
       "      <td>3462651.0</td>\n",
       "      <td>3359119.0</td>\n",
       "      <td>2243815.0</td>\n",
       "    </tr>\n",
       "    <tr>\n",
       "      <th>14 ST-UNION SQ</th>\n",
       "      <td>1684550.0</td>\n",
       "      <td>3096709.0</td>\n",
       "      <td>3384861.0</td>\n",
       "      <td>3485136.0</td>\n",
       "      <td>3307983.0</td>\n",
       "      <td>3324124.0</td>\n",
       "      <td>2249802.0</td>\n",
       "    </tr>\n",
       "    <tr>\n",
       "      <th>42 ST-PORT AUTH</th>\n",
       "      <td>1757649.0</td>\n",
       "      <td>3056266.0</td>\n",
       "      <td>3257233.0</td>\n",
       "      <td>3286585.0</td>\n",
       "      <td>3249179.0</td>\n",
       "      <td>3213678.0</td>\n",
       "      <td>2149157.0</td>\n",
       "    </tr>\n",
       "    <tr>\n",
       "      <th>FULTON ST</th>\n",
       "      <td>980915.0</td>\n",
       "      <td>3037897.0</td>\n",
       "      <td>3318441.0</td>\n",
       "      <td>3304913.0</td>\n",
       "      <td>3254168.0</td>\n",
       "      <td>3034866.0</td>\n",
       "      <td>1310309.0</td>\n",
       "    </tr>\n",
       "    <tr>\n",
       "      <th>CANAL ST</th>\n",
       "      <td>1226533.0</td>\n",
       "      <td>2200114.0</td>\n",
       "      <td>2360620.0</td>\n",
       "      <td>2398904.0</td>\n",
       "      <td>2388111.0</td>\n",
       "      <td>2349851.0</td>\n",
       "      <td>1622385.0</td>\n",
       "    </tr>\n",
       "    <tr>\n",
       "      <th>59 ST COLUMBUS</th>\n",
       "      <td>1152338.0</td>\n",
       "      <td>2115085.0</td>\n",
       "      <td>2287441.0</td>\n",
       "      <td>2358355.0</td>\n",
       "      <td>2274668.0</td>\n",
       "      <td>2116554.0</td>\n",
       "      <td>1455466.0</td>\n",
       "    </tr>\n",
       "    <tr>\n",
       "      <th>47-50 STS ROCK</th>\n",
       "      <td>555273.0</td>\n",
       "      <td>2043765.0</td>\n",
       "      <td>2233325.0</td>\n",
       "      <td>2259066.0</td>\n",
       "      <td>2191561.0</td>\n",
       "      <td>2045411.0</td>\n",
       "      <td>713437.0</td>\n",
       "    </tr>\n",
       "  </tbody>\n",
       "</table>\n",
       "</div>"
      ],
      "text/plain": [
       "weekday             Sunday     Monday    Tuesday  Wednesday   Thursday  \\\n",
       "station                                                                  \n",
       "34 ST-PENN STA   2544634.0  5317194.0  5698597.0  5738987.0  5639291.0   \n",
       "GRD CNTRL-42 ST  1570693.0  4909459.0  5314691.0  5309667.0  5198165.0   \n",
       "34 ST-HERALD SQ  1953345.0  3886188.0  4162325.0  4270606.0  4148644.0   \n",
       "TIMES SQ-42 ST   1710574.0  3116497.0  3484264.0  3584389.0  3462651.0   \n",
       "14 ST-UNION SQ   1684550.0  3096709.0  3384861.0  3485136.0  3307983.0   \n",
       "42 ST-PORT AUTH  1757649.0  3056266.0  3257233.0  3286585.0  3249179.0   \n",
       "FULTON ST         980915.0  3037897.0  3318441.0  3304913.0  3254168.0   \n",
       "CANAL ST         1226533.0  2200114.0  2360620.0  2398904.0  2388111.0   \n",
       "59 ST COLUMBUS   1152338.0  2115085.0  2287441.0  2358355.0  2274668.0   \n",
       "47-50 STS ROCK    555273.0  2043765.0  2233325.0  2259066.0  2191561.0   \n",
       "\n",
       "weekday             Friday   Saturday  \n",
       "station                                \n",
       "34 ST-PENN STA   5389296.0  2994394.0  \n",
       "GRD CNTRL-42 ST  4747073.0  2015509.0  \n",
       "34 ST-HERALD SQ  4099599.0  2491850.0  \n",
       "TIMES SQ-42 ST   3359119.0  2243815.0  \n",
       "14 ST-UNION SQ   3324124.0  2249802.0  \n",
       "42 ST-PORT AUTH  3213678.0  2149157.0  \n",
       "FULTON ST        3034866.0  1310309.0  \n",
       "CANAL ST         2349851.0  1622385.0  \n",
       "59 ST COLUMBUS   2116554.0  1455466.0  \n",
       "47-50 STS ROCK   2045411.0   713437.0  "
      ]
     },
     "execution_count": 32,
     "metadata": {},
     "output_type": "execute_result"
    }
   ],
   "source": [
    "top10_pivot = df_top10_byday.pivot(\"station\", \"weekday\", \"total_traffic\")\n",
    "week_list = ['Sunday', 'Monday', 'Tuesday', 'Wednesday', 'Thursday', 'Friday', 'Saturday']\n",
    "top10_pivot = top10_pivot[week_list]\n",
    "\n",
    "#order by top 10 list order\n",
    "for i in range(10):\n",
    "    top10_pivot.loc[top10_list[i], 'order'] = i\n",
    "\n",
    "top10_pivot = top10_pivot.sort_values(by='order')\n",
    "top10_pivot.drop('order', axis=1, inplace=True)\n",
    "top10_pivot"
   ]
  },
  {
   "cell_type": "markdown",
   "metadata": {},
   "source": [
    "Calculate % volume for each day"
   ]
  },
  {
   "cell_type": "code",
   "execution_count": 33,
   "metadata": {},
   "outputs": [
    {
     "name": "stdout",
     "output_type": "stream",
     "text": [
      "Sunday: 7%\n",
      "Monday: 15%\n",
      "Tuesday: 17%\n",
      "Wednesday: 17%\n",
      "Thursday: 16%\n",
      "Friday: 16%\n",
      "Saturday: 9%\n"
     ]
    }
   ],
   "source": [
    "for i in range(7):\n",
    "    percent_sum = int(round(top10_pivot[week_list[i]].sum() / top10_pivot.sum().sum(), 3) * 100)\n",
    "    print(f'{week_list[i]}: {percent_sum}%')"
   ]
  },
  {
   "cell_type": "markdown",
   "metadata": {},
   "source": [
    "Heatmap of volume by station by day of week"
   ]
  },
  {
   "cell_type": "code",
   "execution_count": 34,
   "metadata": {},
   "outputs": [
    {
     "data": {
      "image/png": "[encoded data removed]",
      "text/plain": [
       "<Figure size 432x288 with 2 Axes>"
      ]
     },
     "metadata": {
      "needs_background": "light"
     },
     "output_type": "display_data"
    }
   ],
   "source": [
    "ax = sns.heatmap(top10_pivot, cmap=\"Blues\")"
   ]
  },
  {
   "cell_type": "markdown",
   "metadata": {},
   "source": [
    "Heatmap normalized across rows to be able to see the differences in color. Comparisons should be done across rows for data in each station"
   ]
  },
  {
   "cell_type": "code",
   "execution_count": 35,
   "metadata": {},
   "outputs": [
    {
     "data": {
      "image/png": "[encoded data removed]",
      "text/plain": [
       "<Figure size 432x288 with 1 Axes>"
      ]
     },
     "metadata": {
      "needs_background": "light"
     },
     "output_type": "display_data"
    }
   ],
   "source": [
    "# substract mean\n",
    "df_norm_row=top10_pivot.sub(top10_pivot.mean(axis=1), axis=0)\n",
    "# divide by standard dev\n",
    "df_norm_row=df_norm_row.div(top10_pivot.std(axis=1), axis=0)\n",
    "df_norm_row=df_norm_row.mul(10, axis=0)\n",
    "\n",
    "ax = sns.heatmap(df_norm_row, cmap=\"Blues\", annot=True, cbar=False)"
   ]
  },
  {
   "cell_type": "markdown",
   "metadata": {},
   "source": [
    "---\n",
    "\n",
    "### 4. Identify best times of day"
   ]
  },
  {
   "cell_type": "code",
   "execution_count": 37,
   "metadata": {},
   "outputs": [],
   "source": [
    "df.head()\n",
    "df_by_hour=df\n",
    "\n",
    "#Calculate Hourly traffic (Average)\n",
    "df_by_hour['Hourly_traffic']=df_by_hour['total_traffic']/4\n",
    "\n",
    "#plit Column containing lists into different rows\n",
    "df_by_hour['Hour']= list(map(lambda x : [x-1, x-2, x-3, x-4],df_by_hour['hour']))\n",
    "df_by_hour_update = pd.DataFrame({\n",
    "      col:np.repeat(df_by_hour[col].values, df_by_hour['Hour'].str.len())\n",
    "      for col in df_by_hour.columns.drop('Hour')}\n",
    "    ).assign(**{'Hour':np.concatenate(df_by_hour['Hour'].values)})[df_by_hour.columns]\n",
    "\n",
    "\n",
    "def check_neg_hour(x):\n",
    "    if x<0: \n",
    "        x+=24\n",
    "    else:\n",
    "        pass\n",
    "    return x\n",
    "\n",
    "df_by_hour_update['Hour']=list(map(check_neg_hour, df_by_hour_update['Hour']))"
   ]
  },
  {
   "cell_type": "code",
   "execution_count": 39,
   "metadata": {},
   "outputs": [],
   "source": [
    "# Add Column for Month\n",
    "df_by_hour_update[\"Month\"]=pd.DatetimeIndex(df_by_hour_update[\"timestamp\"]).month\n",
    "\n",
    "df_by_hour_update[\"Month\"]=list(map(lambda x: calendar.month_name[x],df_by_hour_update[\"Month\"]))\n"
   ]
  },
  {
   "cell_type": "code",
   "execution_count": 40,
   "metadata": {},
   "outputs": [
    {
     "data": {
      "text/html": [
       "<div>\n",
       "<style scoped>\n",
       "    .dataframe tbody tr th:only-of-type {\n",
       "        vertical-align: middle;\n",
       "    }\n",
       "\n",
       "    .dataframe tbody tr th {\n",
       "        vertical-align: top;\n",
       "    }\n",
       "\n",
       "    .dataframe thead th {\n",
       "        text-align: right;\n",
       "    }\n",
       "</style>\n",
       "<table border=\"1\" class=\"dataframe\">\n",
       "  <thead>\n",
       "    <tr style=\"text-align: right;\">\n",
       "      <th></th>\n",
       "      <th>index</th>\n",
       "      <th>station</th>\n",
       "      <th>timestamp</th>\n",
       "      <th>unique_turnstile_id</th>\n",
       "      <th>hour</th>\n",
       "      <th>diff_entries</th>\n",
       "      <th>diff_exits</th>\n",
       "      <th>total_traffic</th>\n",
       "      <th>weekday</th>\n",
       "      <th>Hourly_traffic</th>\n",
       "      <th>Hour</th>\n",
       "      <th>Month</th>\n",
       "    </tr>\n",
       "  </thead>\n",
       "  <tbody>\n",
       "    <tr>\n",
       "      <th>0</th>\n",
       "      <td>3233363</td>\n",
       "      <td>EASTCHSTER/DYRE</td>\n",
       "      <td>2019-07-26 17:00:00</td>\n",
       "      <td>R730R431 EASTCHSTER/DYRE 00-00-04</td>\n",
       "      <td>17</td>\n",
       "      <td>38.0</td>\n",
       "      <td>51.0</td>\n",
       "      <td>89.0</td>\n",
       "      <td>Friday</td>\n",
       "      <td>22.25</td>\n",
       "      <td>16-20</td>\n",
       "      <td>July</td>\n",
       "    </tr>\n",
       "    <tr>\n",
       "      <th>1</th>\n",
       "      <td>3233363</td>\n",
       "      <td>EASTCHSTER/DYRE</td>\n",
       "      <td>2019-07-26 17:00:00</td>\n",
       "      <td>R730R431 EASTCHSTER/DYRE 00-00-04</td>\n",
       "      <td>17</td>\n",
       "      <td>38.0</td>\n",
       "      <td>51.0</td>\n",
       "      <td>89.0</td>\n",
       "      <td>Friday</td>\n",
       "      <td>22.25</td>\n",
       "      <td>12-16</td>\n",
       "      <td>July</td>\n",
       "    </tr>\n",
       "    <tr>\n",
       "      <th>2</th>\n",
       "      <td>3233363</td>\n",
       "      <td>EASTCHSTER/DYRE</td>\n",
       "      <td>2019-07-26 17:00:00</td>\n",
       "      <td>R730R431 EASTCHSTER/DYRE 00-00-04</td>\n",
       "      <td>17</td>\n",
       "      <td>38.0</td>\n",
       "      <td>51.0</td>\n",
       "      <td>89.0</td>\n",
       "      <td>Friday</td>\n",
       "      <td>22.25</td>\n",
       "      <td>12-16</td>\n",
       "      <td>July</td>\n",
       "    </tr>\n",
       "    <tr>\n",
       "      <th>3</th>\n",
       "      <td>3233363</td>\n",
       "      <td>EASTCHSTER/DYRE</td>\n",
       "      <td>2019-07-26 17:00:00</td>\n",
       "      <td>R730R431 EASTCHSTER/DYRE 00-00-04</td>\n",
       "      <td>17</td>\n",
       "      <td>38.0</td>\n",
       "      <td>51.0</td>\n",
       "      <td>89.0</td>\n",
       "      <td>Friday</td>\n",
       "      <td>22.25</td>\n",
       "      <td>12-16</td>\n",
       "      <td>July</td>\n",
       "    </tr>\n",
       "    <tr>\n",
       "      <th>4</th>\n",
       "      <td>3233362</td>\n",
       "      <td>EASTCHSTER/DYRE</td>\n",
       "      <td>2019-07-26 13:00:00</td>\n",
       "      <td>R730R431 EASTCHSTER/DYRE 00-00-04</td>\n",
       "      <td>13</td>\n",
       "      <td>95.0</td>\n",
       "      <td>52.0</td>\n",
       "      <td>147.0</td>\n",
       "      <td>Friday</td>\n",
       "      <td>36.75</td>\n",
       "      <td>12-16</td>\n",
       "      <td>July</td>\n",
       "    </tr>\n",
       "    <tr>\n",
       "      <th>...</th>\n",
       "      <td>...</td>\n",
       "      <td>...</td>\n",
       "      <td>...</td>\n",
       "      <td>...</td>\n",
       "      <td>...</td>\n",
       "      <td>...</td>\n",
       "      <td>...</td>\n",
       "      <td>...</td>\n",
       "      <td>...</td>\n",
       "      <td>...</td>\n",
       "      <td>...</td>\n",
       "      <td>...</td>\n",
       "    </tr>\n",
       "    <tr>\n",
       "      <th>11329691</th>\n",
       "      <td>1</td>\n",
       "      <td>59 ST NQR456W</td>\n",
       "      <td>2019-03-30 04:00:00</td>\n",
       "      <td>A002R051 59 ST 02-00-00</td>\n",
       "      <td>4</td>\n",
       "      <td>23.0</td>\n",
       "      <td>46.0</td>\n",
       "      <td>69.0</td>\n",
       "      <td>Saturday</td>\n",
       "      <td>17.25</td>\n",
       "      <td>0-4</td>\n",
       "      <td>March</td>\n",
       "    </tr>\n",
       "    <tr>\n",
       "      <th>11329692</th>\n",
       "      <td>0</td>\n",
       "      <td>59 ST NQR456W</td>\n",
       "      <td>2019-03-30 00:00:00</td>\n",
       "      <td>A002R051 59 ST 02-00-00</td>\n",
       "      <td>0</td>\n",
       "      <td>20.0</td>\n",
       "      <td>8.0</td>\n",
       "      <td>28.0</td>\n",
       "      <td>Saturday</td>\n",
       "      <td>7.00</td>\n",
       "      <td>20-24</td>\n",
       "      <td>March</td>\n",
       "    </tr>\n",
       "    <tr>\n",
       "      <th>11329693</th>\n",
       "      <td>0</td>\n",
       "      <td>59 ST NQR456W</td>\n",
       "      <td>2019-03-30 00:00:00</td>\n",
       "      <td>A002R051 59 ST 02-00-00</td>\n",
       "      <td>0</td>\n",
       "      <td>20.0</td>\n",
       "      <td>8.0</td>\n",
       "      <td>28.0</td>\n",
       "      <td>Saturday</td>\n",
       "      <td>7.00</td>\n",
       "      <td>20-24</td>\n",
       "      <td>March</td>\n",
       "    </tr>\n",
       "    <tr>\n",
       "      <th>11329694</th>\n",
       "      <td>0</td>\n",
       "      <td>59 ST NQR456W</td>\n",
       "      <td>2019-03-30 00:00:00</td>\n",
       "      <td>A002R051 59 ST 02-00-00</td>\n",
       "      <td>0</td>\n",
       "      <td>20.0</td>\n",
       "      <td>8.0</td>\n",
       "      <td>28.0</td>\n",
       "      <td>Saturday</td>\n",
       "      <td>7.00</td>\n",
       "      <td>20-24</td>\n",
       "      <td>March</td>\n",
       "    </tr>\n",
       "    <tr>\n",
       "      <th>11329695</th>\n",
       "      <td>0</td>\n",
       "      <td>59 ST NQR456W</td>\n",
       "      <td>2019-03-30 00:00:00</td>\n",
       "      <td>A002R051 59 ST 02-00-00</td>\n",
       "      <td>0</td>\n",
       "      <td>20.0</td>\n",
       "      <td>8.0</td>\n",
       "      <td>28.0</td>\n",
       "      <td>Saturday</td>\n",
       "      <td>7.00</td>\n",
       "      <td>20-24</td>\n",
       "      <td>March</td>\n",
       "    </tr>\n",
       "  </tbody>\n",
       "</table>\n",
       "<p>11329696 rows × 12 columns</p>\n",
       "</div>"
      ],
      "text/plain": [
       "            index          station           timestamp  \\\n",
       "0         3233363  EASTCHSTER/DYRE 2019-07-26 17:00:00   \n",
       "1         3233363  EASTCHSTER/DYRE 2019-07-26 17:00:00   \n",
       "2         3233363  EASTCHSTER/DYRE 2019-07-26 17:00:00   \n",
       "3         3233363  EASTCHSTER/DYRE 2019-07-26 17:00:00   \n",
       "4         3233362  EASTCHSTER/DYRE 2019-07-26 13:00:00   \n",
       "...           ...              ...                 ...   \n",
       "11329691        1    59 ST NQR456W 2019-03-30 04:00:00   \n",
       "11329692        0    59 ST NQR456W 2019-03-30 00:00:00   \n",
       "11329693        0    59 ST NQR456W 2019-03-30 00:00:00   \n",
       "11329694        0    59 ST NQR456W 2019-03-30 00:00:00   \n",
       "11329695        0    59 ST NQR456W 2019-03-30 00:00:00   \n",
       "\n",
       "                        unique_turnstile_id  hour  diff_entries  diff_exits  \\\n",
       "0         R730R431 EASTCHSTER/DYRE 00-00-04    17          38.0        51.0   \n",
       "1         R730R431 EASTCHSTER/DYRE 00-00-04    17          38.0        51.0   \n",
       "2         R730R431 EASTCHSTER/DYRE 00-00-04    17          38.0        51.0   \n",
       "3         R730R431 EASTCHSTER/DYRE 00-00-04    17          38.0        51.0   \n",
       "4         R730R431 EASTCHSTER/DYRE 00-00-04    13          95.0        52.0   \n",
       "...                                     ...   ...           ...         ...   \n",
       "11329691            A002R051 59 ST 02-00-00     4          23.0        46.0   \n",
       "11329692            A002R051 59 ST 02-00-00     0          20.0         8.0   \n",
       "11329693            A002R051 59 ST 02-00-00     0          20.0         8.0   \n",
       "11329694            A002R051 59 ST 02-00-00     0          20.0         8.0   \n",
       "11329695            A002R051 59 ST 02-00-00     0          20.0         8.0   \n",
       "\n",
       "          total_traffic   weekday  Hourly_traffic   Hour  Month  \n",
       "0                  89.0    Friday           22.25  16-20   July  \n",
       "1                  89.0    Friday           22.25  12-16   July  \n",
       "2                  89.0    Friday           22.25  12-16   July  \n",
       "3                  89.0    Friday           22.25  12-16   July  \n",
       "4                 147.0    Friday           36.75  12-16   July  \n",
       "...                 ...       ...             ...    ...    ...  \n",
       "11329691           69.0  Saturday           17.25    0-4  March  \n",
       "11329692           28.0  Saturday            7.00  20-24  March  \n",
       "11329693           28.0  Saturday            7.00  20-24  March  \n",
       "11329694           28.0  Saturday            7.00  20-24  March  \n",
       "11329695           28.0  Saturday            7.00  20-24  March  \n",
       "\n",
       "[11329696 rows x 12 columns]"
      ]
     },
     "execution_count": 40,
     "metadata": {},
     "output_type": "execute_result"
    }
   ],
   "source": [
    "df_by_hour_update\n",
    "\n",
    "dic_hour={\"0-4\":[0,1,2,3],\"04-08\":[4,5,6,7],\n",
    "              \"08-12\":[8,9,10,11],\"12-16\":[12,13,14,15],\n",
    "             \"16-20\":[16,17,18,19],\"20-24\":[20,21,22,23]}\n",
    "def fillin_hour_range(x):\n",
    "    for i, cata in dic_hour.items():\n",
    "        if x in cata:\n",
    "            x=i\n",
    "    return x\n",
    "        \n",
    "\n",
    "df_by_hour_update['Hour']= list(map(fillin_hour_range,df_by_hour_update['Hour']))\n",
    "df_by_hour_update.head()"
   ]
  },
  {
   "cell_type": "markdown",
   "metadata": {},
   "source": [
    "##### Plot for 34 ST-PENN STA (Top 1)"
   ]
  },
  {
   "cell_type": "code",
   "execution_count": 51,
   "metadata": {},
   "outputs": [
    {
     "data": {
      "image/png": "[encoded data removed]",
      "text/plain": [
       "<Figure size 432x288 with 1 Axes>"
      ]
     },
     "metadata": {
      "needs_background": "light"
     },
     "output_type": "display_data"
    }
   ],
   "source": [
    "#34 ST-PENN STA\n",
    "penn_34=df_by_hour_update[df_by_hour_update.station==\"34 ST-PENN STA\"]\n",
    "\n",
    "#sorted(penn_34['hour'].value_counts())\n",
    "#penn_34['hour'].value_counts()\n",
    "plot_penn_34=penn_34.groupby([\"station\",\"Month\",\"Hour\"]).agg({'Hourly_traffic':'sum'}).reset_index()\n",
    "#df_penn_34.head(10)\n",
    "#plot_penn_34\n",
    "\n",
    "apr=plot_penn_34[plot_penn_34.Month=='April']\n",
    "may=plot_penn_34[plot_penn_34.Month=='May']\n",
    "jun=plot_penn_34[plot_penn_34.Month=='June']\n",
    "july=plot_penn_34[plot_penn_34.Month=='July']\n",
    "\n",
    "\n",
    "xticks = np.arange(6)+ (6 / 2.) * 0.2\n",
    "x_jun = np.arange(len(jun.Hour))\n",
    "x_july=np.arange(len(july.Hour))\n",
    "x_apr=np.arange(len(apr.Hour))\n",
    "x_may=np.arange(len(may.Hour))\n",
    "\n",
    "plt.bar(x_apr-0.3, apr.Hourly_traffic, color = 'b', width = 0.2);\n",
    "plt.bar(x_may-0.1, may.Hourly_traffic,color = 'r', width = 0.2);\n",
    "plt.bar(x_jun+0.1, jun.Hourly_traffic,color = 'c', width = 0.2);\n",
    "plt.bar(x_july+0.3, july.Hourly_traffic,color = 'y', width = 0.2);\n",
    "#plt.xlim([0 - 0.1, max(xticks) + (6 * 0.5)])\n",
    "plt.title('34 ST-PENN STA',family='sans-serif',fontsize = 15,color='b');\n",
    "plt.xlabel('Time (O\\'Clock)')\n",
    "plt.ylabel('Volume (Miliom)')\n",
    "#plt.linewidth(5)\n",
    "plt.xticks(np.arange(6),('0~4', '4~8', '8~12', '12~16', '16~20', '20~24'))\n",
    "#plt.yticks(np.linspace(0, 700000, 6))\n",
    "plt.text(-0.5, 1100000, '3.65M',\n",
    "        color='green', fontsize=15)\n",
    "\n",
    "plt.text(0.4, 2200000, '8.16M',\n",
    "        color='green', fontsize=15)\n",
    "\n",
    "plt.text(1.5, 1900000, '6.96M',\n",
    "        color='green', fontsize=15)\n",
    "\n",
    "\n",
    "plt.text(2.6, 2650000, '10.13M',\n",
    "        color='green', fontsize=15)\n",
    "\n",
    "\n",
    "plt.text(3.7, 1100000, '3.68M',\n",
    "        color='green', fontsize=15)\n",
    "\n",
    "plt.text(4.8, 200000, '0.7M',\n",
    "        color='green', fontsize=15)\n",
    "\n",
    "#print(penn_34.groupby([\"Hour\"])[\"Hourly_traffic\"].sum())\n",
    "plt.legend(['April','May','JUNE','JULY'])\n",
    "plt.show();"
   ]
  },
  {
   "cell_type": "markdown",
   "metadata": {},
   "source": [
    "##### Plot for GRD CNTRL-42 ST (Top 2)"
   ]
  },
  {
   "cell_type": "code",
   "execution_count": null,
   "metadata": {},
   "outputs": [],
   "source": [
    "### GRD_CNTRL=df_by_hour_update[df_by_hour_update.station==\"GRD CNTRL-42 ST\"]\n",
    "plot_GRD_CNTRL=GRD_CNTRL.groupby([\"station\",\"Month\",\"Hour\"]).agg({'Hourly_traffic':'sum'}).reset_index()\n",
    "\n",
    "plot_GRD_CNTRL\n",
    "\n",
    "\n",
    "\n",
    "apr=plot_GRD_CNTRL[plot_GRD_CNTRL.Month=='April']\n",
    "may=plot_GRD_CNTRL[plot_GRD_CNTRL.Month=='May']\n",
    "jun=plot_GRD_CNTRL[plot_GRD_CNTRL.Month=='June']\n",
    "july=plot_GRD_CNTRL[plot_GRD_CNTRL.Month=='July']\n",
    "\n",
    "\n",
    "xticks = np.arange(6)+ (6 / 2.) * 0.2\n",
    "x_jun = np.arange(len(jun.Hour))\n",
    "x_july=np.arange(len(july.Hour))\n",
    "x_apr=np.arange(len(apr.Hour))\n",
    "x_may=np.arange(len(may.Hour))\n",
    "\n",
    "plt.bar(x_apr-0.3, apr.Hourly_traffic, color = 'b', width = 0.2);\n",
    "plt.bar(x_may-0.1, may.Hourly_traffic,color = 'r', width = 0.2);\n",
    "plt.bar(x_jun+0.1, jun.Hourly_traffic,color = 'c', width = 0.2);\n",
    "plt.bar(x_july+0.3, july.Hourly_traffic,color = 'y', width = 0.2);\n",
    "#plt.xlim([0 - 0.1, max(xticks) + (6 * 0.5)])\n",
    "plt.title('GRD CNTRL-42 ST',family='sans-serif',fontsize = 15,color='b');\n",
    "plt.xlabel('Time (O\\'Clock)')\n",
    "plt.ylabel('Volume (Miliom)')\n",
    "\n",
    "\n",
    "plt.text(-0.5, 1200000, '3.32M',\n",
    "        color='green', fontsize=15)\n",
    "\n",
    "plt.text(0.4, 2000000, '7.62M',\n",
    "        color='green', fontsize=15)\n",
    "\n",
    "plt.text(1.5, 1750000, '6.17M',\n",
    "        color='green', fontsize=15)\n",
    "\n",
    "plt.text(2.6, 2350000, '8.94M',\n",
    "        color='green', fontsize=15)\n",
    "\n",
    "plt.text(3.7, 950000, '3.09M',\n",
    "        color='green', fontsize=15)\n",
    "\n",
    "plt.text(4.8, 175000, '0.47M',\n",
    "        color='green', fontsize=15)\n",
    "\n",
    "print(GRD_CNTRL.groupby([\"Hour\"])[\"Hourly_traffic\"].sum())\n",
    "\n",
    "\n",
    "\n",
    "#plt.linewidth(5)\n",
    "plt.xticks(np.arange(6),('0~4', '4~8', '8~12', '12~16', '16~20', '20~24'))\n",
    "#plt.yticks(np.linspace(0, 700000, 6))\n",
    "plt.legend(['April','May','JUNE','JULY'])\n",
    "plt.show();\n"
   ]
  },
  {
   "cell_type": "markdown",
   "metadata": {},
   "source": [
    "##### Plot for 34 ST-HERALD SQ (Top 3)"
   ]
  },
  {
   "cell_type": "code",
   "execution_count": 44,
   "metadata": {},
   "outputs": [
    {
     "name": "stdout",
     "output_type": "stream",
     "text": [
      "Hour\n",
      "0-4      1645874.75\n",
      "04-08    5920634.50\n",
      "08-12    5297996.50\n",
      "12-16    8592700.25\n",
      "16-20    3106555.25\n",
      "20-24     448795.75\n",
      "Name: Hourly_traffic, dtype: float64\n"
     ]
    },
    {
     "data": {
      "image/png": "[encoded data removed]",
      "text/plain": [
       "<Figure size 432x288 with 1 Axes>"
      ]
     },
     "metadata": {
      "needs_background": "light"
     },
     "output_type": "display_data"
    }
   ],
   "source": [
    "HERALD_34=df_by_hour_update[df_by_hour_update.station==\"34 ST-HERALD SQ\"]\n",
    "plot_HERALD_34=HERALD_34.groupby([\"station\",\"Month\",\"Hour\"]).agg({'Hourly_traffic':'sum'}).reset_index()\n",
    "\n",
    "plot_HERALD_34\n",
    "\n",
    "\n",
    "apr=plot_HERALD_34[plot_HERALD_34.Month=='April']\n",
    "may=plot_HERALD_34[plot_HERALD_34.Month=='May']\n",
    "jun=plot_HERALD_34[plot_HERALD_34.Month=='June']\n",
    "july=plot_HERALD_34[plot_HERALD_34.Month=='July']\n",
    "\n",
    "\n",
    "xticks = np.arange(6)+ (6 / 2.) * 0.2\n",
    "x_jun = np.arange(len(jun.Hour))\n",
    "x_july=np.arange(len(july.Hour))\n",
    "x_apr=np.arange(len(apr.Hour))\n",
    "x_may=np.arange(len(may.Hour))\n",
    "\n",
    "plt.bar(x_apr-0.3, apr.Hourly_traffic, color = 'b', width = 0.2);\n",
    "plt.bar(x_may-0.1, may.Hourly_traffic,color = 'r', width = 0.2);\n",
    "plt.bar(x_jun+0.1, jun.Hourly_traffic,color = 'c', width = 0.2);\n",
    "plt.bar(x_july+0.3, july.Hourly_traffic,color = 'y', width = 0.2);\n",
    "#plt.xlim([0 - 0.1, max(xticks) + (6 * 0.5)])\n",
    "plt.title('34 ST-HERALD SQ',family='sans-serif',fontsize = 15,color='b');\n",
    "plt.xlabel('Time (O\\'Clock)')\n",
    "plt.ylabel('Volume (Miliom)')\n",
    "\n",
    "plt.text(-0.5, 800000, '1.64M',\n",
    "        color='green', fontsize=15)\n",
    "\n",
    "plt.text(0.4, 1600000, '5.92M',\n",
    "        color='green', fontsize=15)\n",
    "\n",
    "plt.text(1.5, 1500000, '5.29M',\n",
    "        color='green', fontsize=15)\n",
    "\n",
    "plt.text(2.6, 2250000, '8.59M',\n",
    "        color='green', fontsize=15)\n",
    "\n",
    "plt.text(3.7, 900000, '3.11M',\n",
    "        color='green', fontsize=15)\n",
    "\n",
    "plt.text(4.8, 175000, '0.49M',\n",
    "        color='green', fontsize=15)\n",
    "\n",
    "print(HERALD_34.groupby([\"Hour\"])[\"Hourly_traffic\"].sum())\n",
    "\n",
    "\n",
    "\n",
    "#plt.linewidth(5)\n",
    "plt.xticks(np.arange(6),('0~4', '4~8', '8~12', '12~16', '16~20', '20~24'))\n",
    "#plt.yticks(np.linspace(0, 700000, 6))\n",
    "plt.legend(['April','May','JUNE','JULY'])\n",
    "plt.show();\n"
   ]
  },
  {
   "cell_type": "markdown",
   "metadata": {},
   "source": [
    "##### Plot for TIMES SQ-42 ST (Top 4)"
   ]
  },
  {
   "cell_type": "code",
   "execution_count": 46,
   "metadata": {},
   "outputs": [
    {
     "data": {
      "image/png": "[encoded data removed]",
      "text/plain": [
       "<Figure size 432x288 with 1 Axes>"
      ]
     },
     "metadata": {
      "needs_background": "light"
     },
     "output_type": "display_data"
    }
   ],
   "source": [
    "TIMES_SQ=df_by_hour_update[df_by_hour_update.station==\"TIMES SQ-42 ST\"]\n",
    "plot_TIMES_SQ=TIMES_SQ.groupby([\"station\",\"Month\",\"Hour\"]).agg({'Hourly_traffic':'sum'}).reset_index()\n",
    "\n",
    "plot_TIMES_SQ\n",
    "\n",
    "\n",
    "apr=plot_TIMES_SQ[plot_TIMES_SQ.Month=='April']\n",
    "may=plot_TIMES_SQ[plot_TIMES_SQ.Month=='May']\n",
    "jun=plot_TIMES_SQ[plot_TIMES_SQ.Month=='June']\n",
    "july=plot_TIMES_SQ[plot_TIMES_SQ.Month=='July']\n",
    "\n",
    "\n",
    "xticks = np.arange(6)+ (6 / 2.) * 0.2\n",
    "x_jun = np.arange(len(jun.Hour))\n",
    "x_july=np.arange(len(july.Hour))\n",
    "x_apr=np.arange(len(apr.Hour))\n",
    "x_may=np.arange(len(may.Hour))\n",
    "\n",
    "plt.bar(x_apr-0.3, apr.Hourly_traffic, color = 'b', width = 0.2);\n",
    "plt.bar(x_may-0.1, may.Hourly_traffic,color = 'r', width = 0.2);\n",
    "plt.bar(x_jun+0.1, jun.Hourly_traffic,color = 'c', width = 0.2);\n",
    "plt.bar(x_july+0.3, july.Hourly_traffic,color = 'y', width = 0.2);\n",
    "#plt.xlim([0 - 0.1, max(xticks) + (6 * 0.5)])\n",
    "plt.title('TIMES SQ-42 ST',family='sans-serif',fontsize = 15,color='b');\n",
    "plt.xlabel('Time (O\\'Clock)')\n",
    "plt.ylabel('Volume (Miliom)')\n",
    "#plt.linewidth(5)\n",
    "plt.xticks(np.arange(6),('0~4', '4~8', '8~12', '12~16', '16~20', '20~24'))\n",
    "#plt.yticks(np.linspace(0, 700000, 6))\n",
    "plt.legend(['April','May','JUNE','JULY'])\n",
    "plt.show();"
   ]
  },
  {
   "cell_type": "markdown",
   "metadata": {},
   "source": [
    "##### Plot for 14 ST-UNION SQ (Top 5)"
   ]
  },
  {
   "cell_type": "code",
   "execution_count": 48,
   "metadata": {},
   "outputs": [
    {
     "data": {
      "image/png": "[encoded data removed]",
      "text/plain": [
       "<Figure size 432x288 with 1 Axes>"
      ]
     },
     "metadata": {
      "needs_background": "light"
     },
     "output_type": "display_data"
    }
   ],
   "source": [
    "UNION_SQ_14=df_by_hour_update[df_by_hour_update.station==\"14 ST-UNION SQ\"]\n",
    "plot_UNION_SQ_14=TIMES_SQ.groupby([\"station\",\"Month\",\"Hour\"]).agg({'Hourly_traffic':'sum'}).reset_index()\n",
    "\n",
    "plot_UNION_SQ_14\n",
    "\n",
    "\n",
    "apr=plot_UNION_SQ_14[plot_UNION_SQ_14.Month=='April']\n",
    "may=plot_UNION_SQ_14[plot_UNION_SQ_14.Month=='May']\n",
    "jun=plot_UNION_SQ_14[plot_UNION_SQ_14.Month=='June']\n",
    "july=plot_UNION_SQ_14[plot_UNION_SQ_14.Month=='July']\n",
    "\n",
    "\n",
    "xticks = np.arange(6)+ (6 / 2.) * 0.2\n",
    "x_jun = np.arange(len(jun.Hour))\n",
    "x_july=np.arange(len(july.Hour))\n",
    "x_apr=np.arange(len(apr.Hour))\n",
    "x_may=np.arange(len(may.Hour))\n",
    "\n",
    "plt.bar(x_apr-0.3, apr.Hourly_traffic, color = 'b', width = 0.2);\n",
    "plt.bar(x_may-0.1, may.Hourly_traffic,color = 'r', width = 0.2);\n",
    "plt.bar(x_jun+0.1, jun.Hourly_traffic,color = 'c', width = 0.2);\n",
    "plt.bar(x_july+0.3, july.Hourly_traffic,color = 'y', width = 0.2);\n",
    "#plt.xlim([0 - 0.1, max(xticks) + (6 * 0.5)])\n",
    "plt.title('14 ST-UNION SQ',family='sans-serif',fontsize = 15,color='b');\n",
    "plt.xlabel('Time (O\\'Clock)')\n",
    "plt.ylabel('Volume (Miliom)')\n",
    "#plt.linewidth(5)\n",
    "plt.xticks(np.arange(6),('0~4', '4~8', '8~12', '12~16', '16~20', '20~24'))\n",
    "#plt.yticks(np.linspace(0, 700000, 6))\n",
    "plt.legend(['April','May','JUNE','JULY'])\n",
    "plt.show();"
   ]
  },
  {
   "cell_type": "markdown",
   "metadata": {},
   "source": [
    "### 5.  Identify best times of each day of week"
   ]
  },
  {
   "cell_type": "code",
   "execution_count": 49,
   "metadata": {},
   "outputs": [],
   "source": [
    "df_week=df_by_hour_update\n",
    "calendar.day_name[df_week[\"timestamp\"][1].weekday()]\n",
    "df_week[\"Week\"]= list(map(lambda x: calendar.day_name[x.weekday()], \n",
    "                          df_week[\"timestamp\"]))\n"
   ]
  },
  {
   "cell_type": "code",
   "execution_count": 50,
   "metadata": {},
   "outputs": [
    {
     "data": {
      "text/plain": [
       "<AxesSubplot:xlabel='Week', ylabel='Hour'>"
      ]
     },
     "execution_count": 50,
     "metadata": {},
     "output_type": "execute_result"
    },
    {
     "data": {
      "image/png": "[encoded data removed]",
      "text/plain": [
       "<Figure size 432x288 with 2 Axes>"
      ]
     },
     "metadata": {
      "needs_background": "light"
     },
     "output_type": "display_data"
    }
   ],
   "source": [
    "a=df_week.groupby([\"Week\",\"Hour\"]).agg({'Hourly_traffic':'sum'}).reset_index()\n",
    "a['Hourly_traffic']=a['Hourly_traffic']/1000000\n",
    "pv=a.pivot('Hour','Week','Hourly_traffic')\n",
    "\n",
    "pv = pv[['Sunday','Monday', 'Tuesday', 'Wednesday', 'Thursday', 'Friday', 'Saturday']]\n",
    "sns.heatmap(pv, cmap=\"Blues\", annot=True)\n"
   ]
  },
  {
   "cell_type": "code",
   "execution_count": null,
   "metadata": {},
   "outputs": [],
   "source": []
  }
 ],
 "metadata": {
  "kernelspec": {
   "display_name": "Python 3",
   "language": "python",
   "name": "python3"
  },
  "language_info": {
   "codemirror_mode": {
    "name": "ipython",
    "version": 3
   },
   "file_extension": ".py",
   "mimetype": "text/x-python",
   "name": "python",
   "nbconvert_exporter": "python",
   "pygments_lexer": "ipython3",
   "version": "3.8.5"
  }
 },
 "nbformat": 4,
 "nbformat_minor": 4
}
